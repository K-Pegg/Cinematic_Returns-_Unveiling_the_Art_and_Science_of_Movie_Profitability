{
 "cells": [
  {
   "cell_type": "markdown",
   "metadata": {},
   "source": [
    "# Exploratory Notebook"
   ]
  },
  {
   "cell_type": "code",
   "execution_count": 1,
   "metadata": {},
   "outputs": [],
   "source": [
    "import pandas as pd\n",
    "import numpy as np\n",
    "import scipy.stats as stats\n",
    "import sqlite3\n",
    "import re\n",
    "import matplotlib.pyplot as plt\n",
    "%matplotlib inline\n",
    "import seaborn as sns"
   ]
  },
  {
   "cell_type": "markdown",
   "metadata": {},
   "source": [
    "## Reading Data"
   ]
  },
  {
   "cell_type": "markdown",
   "metadata": {},
   "source": [
    "bom_movie_gross"
   ]
  },
  {
   "cell_type": "code",
   "execution_count": 2,
   "metadata": {},
   "outputs": [],
   "source": [
    "bom_movie_gross=pd.read_csv('../Data/bom.movie_gross.csv.gz' , compression='gzip')"
   ]
  },
  {
   "cell_type": "code",
   "execution_count": 3,
   "metadata": {},
   "outputs": [],
   "source": [
    "#pd.options.display.max_columns=100"
   ]
  },
  {
   "cell_type": "markdown",
   "metadata": {},
   "source": [
    "The data base\n"
   ]
  },
  {
   "cell_type": "code",
   "execution_count": 4,
   "metadata": {},
   "outputs": [],
   "source": [
    "conn1=sqlite3.connect('../Data/im.db/im.db')"
   ]
  },
  {
   "cell_type": "code",
   "execution_count": 5,
   "metadata": {},
   "outputs": [],
   "source": [
    "query=(\"\"\"\n",
    "SELECT *\n",
    "FROM movie_basics\n",
    "\n",
    "\"\"\")\n",
    "movie_basics=pd.read_sql(query,conn1)"
   ]
  },
  {
   "cell_type": "markdown",
   "metadata": {},
   "source": [
    "movie_info"
   ]
  },
  {
   "cell_type": "code",
   "execution_count": 6,
   "metadata": {},
   "outputs": [],
   "source": [
    "movie_info=pd.read_csv('../Data/rt.movie_info.tsv.gz' , delimiter='\\t' ,compression='gzip')"
   ]
  },
  {
   "cell_type": "markdown",
   "metadata": {},
   "source": [
    "reviews"
   ]
  },
  {
   "cell_type": "code",
   "execution_count": 7,
   "metadata": {},
   "outputs": [],
   "source": [
    "reviews=pd.read_csv('../Data/rt.reviews.tsv.gz' , delimiter='\\t' ,compression='gzip' , encoding='windows-1252')"
   ]
  },
  {
   "cell_type": "markdown",
   "metadata": {},
   "source": [
    "The movie data base"
   ]
  },
  {
   "cell_type": "code",
   "execution_count": 8,
   "metadata": {},
   "outputs": [],
   "source": [
    "tmdb_df=pd.read_csv('../Data/tmdb.movies.csv.gz',compression='gzip' , index_col=0)"
   ]
  },
  {
   "cell_type": "markdown",
   "metadata": {},
   "source": [
    "movie_budget"
   ]
  },
  {
   "cell_type": "code",
   "execution_count": 9,
   "metadata": {},
   "outputs": [],
   "source": [
    "movie_budget=pd.read_csv('../Data/tn.movie_budgets.csv.gz' , compression='gzip')"
   ]
  },
  {
   "cell_type": "markdown",
   "metadata": {},
   "source": [
    "## Exploring and Cleaning of Data"
   ]
  },
  {
   "cell_type": "markdown",
   "metadata": {},
   "source": [
    "###### bom_movie_gross cleaning and checking data"
   ]
  },
  {
   "cell_type": "code",
   "execution_count": 10,
   "metadata": {},
   "outputs": [
    {
     "name": "stdout",
     "output_type": "stream",
     "text": [
      "<class 'pandas.core.frame.DataFrame'>\n",
      "RangeIndex: 3387 entries, 0 to 3386\n",
      "Data columns (total 5 columns):\n",
      " #   Column          Non-Null Count  Dtype  \n",
      "---  ------          --------------  -----  \n",
      " 0   title           3387 non-null   object \n",
      " 1   studio          3382 non-null   object \n",
      " 2   domestic_gross  3359 non-null   float64\n",
      " 3   foreign_gross   2037 non-null   object \n",
      " 4   year            3387 non-null   int64  \n",
      "dtypes: float64(1), int64(1), object(3)\n",
      "memory usage: 132.4+ KB\n"
     ]
    }
   ],
   "source": [
    "bom_movie_gross.info()"
   ]
  },
  {
   "cell_type": "code",
   "execution_count": 11,
   "metadata": {},
   "outputs": [
    {
     "data": {
      "text/html": [
       "<div>\n",
       "<style scoped>\n",
       "    .dataframe tbody tr th:only-of-type {\n",
       "        vertical-align: middle;\n",
       "    }\n",
       "\n",
       "    .dataframe tbody tr th {\n",
       "        vertical-align: top;\n",
       "    }\n",
       "\n",
       "    .dataframe thead th {\n",
       "        text-align: right;\n",
       "    }\n",
       "</style>\n",
       "<table border=\"1\" class=\"dataframe\">\n",
       "  <thead>\n",
       "    <tr style=\"text-align: right;\">\n",
       "      <th></th>\n",
       "      <th>title</th>\n",
       "      <th>studio</th>\n",
       "      <th>domestic_gross</th>\n",
       "      <th>foreign_gross</th>\n",
       "      <th>year</th>\n",
       "    </tr>\n",
       "  </thead>\n",
       "  <tbody>\n",
       "    <tr>\n",
       "      <th>1872</th>\n",
       "      <td>Star Wars: The Force Awakens</td>\n",
       "      <td>BV</td>\n",
       "      <td>936700000.0</td>\n",
       "      <td>1,131.6</td>\n",
       "      <td>2015</td>\n",
       "    </tr>\n",
       "    <tr>\n",
       "      <th>3080</th>\n",
       "      <td>Black Panther</td>\n",
       "      <td>BV</td>\n",
       "      <td>700100000.0</td>\n",
       "      <td>646900000</td>\n",
       "      <td>2018</td>\n",
       "    </tr>\n",
       "    <tr>\n",
       "      <th>3079</th>\n",
       "      <td>Avengers: Infinity War</td>\n",
       "      <td>BV</td>\n",
       "      <td>678800000.0</td>\n",
       "      <td>1,369.5</td>\n",
       "      <td>2018</td>\n",
       "    </tr>\n",
       "    <tr>\n",
       "      <th>1873</th>\n",
       "      <td>Jurassic World</td>\n",
       "      <td>Uni.</td>\n",
       "      <td>652300000.0</td>\n",
       "      <td>1,019.4</td>\n",
       "      <td>2015</td>\n",
       "    </tr>\n",
       "    <tr>\n",
       "      <th>727</th>\n",
       "      <td>Marvel's The Avengers</td>\n",
       "      <td>BV</td>\n",
       "      <td>623400000.0</td>\n",
       "      <td>895500000</td>\n",
       "      <td>2012</td>\n",
       "    </tr>\n",
       "    <tr>\n",
       "      <th>...</th>\n",
       "      <td>...</td>\n",
       "      <td>...</td>\n",
       "      <td>...</td>\n",
       "      <td>...</td>\n",
       "      <td>...</td>\n",
       "    </tr>\n",
       "    <tr>\n",
       "      <th>1975</th>\n",
       "      <td>Surprise - Journey To The West</td>\n",
       "      <td>AR</td>\n",
       "      <td>NaN</td>\n",
       "      <td>49600000</td>\n",
       "      <td>2015</td>\n",
       "    </tr>\n",
       "    <tr>\n",
       "      <th>2392</th>\n",
       "      <td>Finding Mr. Right 2</td>\n",
       "      <td>CL</td>\n",
       "      <td>NaN</td>\n",
       "      <td>114700000</td>\n",
       "      <td>2016</td>\n",
       "    </tr>\n",
       "    <tr>\n",
       "      <th>2468</th>\n",
       "      <td>Solace</td>\n",
       "      <td>LGP</td>\n",
       "      <td>NaN</td>\n",
       "      <td>22400000</td>\n",
       "      <td>2016</td>\n",
       "    </tr>\n",
       "    <tr>\n",
       "      <th>2595</th>\n",
       "      <td>Viral</td>\n",
       "      <td>W/Dim.</td>\n",
       "      <td>NaN</td>\n",
       "      <td>552000</td>\n",
       "      <td>2016</td>\n",
       "    </tr>\n",
       "    <tr>\n",
       "      <th>2825</th>\n",
       "      <td>Secret Superstar</td>\n",
       "      <td>NaN</td>\n",
       "      <td>NaN</td>\n",
       "      <td>122000000</td>\n",
       "      <td>2017</td>\n",
       "    </tr>\n",
       "  </tbody>\n",
       "</table>\n",
       "<p>3387 rows × 5 columns</p>\n",
       "</div>"
      ],
      "text/plain": [
       "                               title  studio  domestic_gross foreign_gross  \\\n",
       "1872    Star Wars: The Force Awakens      BV     936700000.0       1,131.6   \n",
       "3080                   Black Panther      BV     700100000.0     646900000   \n",
       "3079          Avengers: Infinity War      BV     678800000.0       1,369.5   \n",
       "1873                  Jurassic World    Uni.     652300000.0       1,019.4   \n",
       "727            Marvel's The Avengers      BV     623400000.0     895500000   \n",
       "...                              ...     ...             ...           ...   \n",
       "1975  Surprise - Journey To The West      AR             NaN      49600000   \n",
       "2392             Finding Mr. Right 2      CL             NaN     114700000   \n",
       "2468                          Solace     LGP             NaN      22400000   \n",
       "2595                           Viral  W/Dim.             NaN        552000   \n",
       "2825                Secret Superstar     NaN             NaN     122000000   \n",
       "\n",
       "      year  \n",
       "1872  2015  \n",
       "3080  2018  \n",
       "3079  2018  \n",
       "1873  2015  \n",
       "727   2012  \n",
       "...    ...  \n",
       "1975  2015  \n",
       "2392  2016  \n",
       "2468  2016  \n",
       "2595  2016  \n",
       "2825  2017  \n",
       "\n",
       "[3387 rows x 5 columns]"
      ]
     },
     "execution_count": 11,
     "metadata": {},
     "output_type": "execute_result"
    }
   ],
   "source": [
    "bom_movie_gross.sort_values('domestic_gross' , ascending=False)"
   ]
  },
  {
   "cell_type": "code",
   "execution_count": 12,
   "metadata": {},
   "outputs": [],
   "source": [
    "#bom_movie_gross.loc[bom_movie_gross['foreign_gross'].str.contains('\\d' , regex=True , na=False)]\n",
    "for index , val in bom_movie_gross.foreign_gross.items():\n",
    "    #if isinstance(val, str) and re.search((r'\\d*\\.\\d+') , str(val)):\n",
    "    if re.search((r'\\d*\\.\\d+') , str(val)):\n",
    "        spl_val=val.split('.')\n",
    "        val=spl_val[0]+('0'*int(spl_val[1]))\n",
    "        bom_movie_gross.at[index,'foreign_gross']=str(val)"
   ]
  },
  {
   "cell_type": "code",
   "execution_count": 13,
   "metadata": {},
   "outputs": [],
   "source": [
    "#changing foreign gross column in to float data type\n",
    "bom_movie_gross['foreign_gross'] = bom_movie_gross['foreign_gross'].str.replace(',' , '')"
   ]
  },
  {
   "cell_type": "code",
   "execution_count": 14,
   "metadata": {},
   "outputs": [],
   "source": [
    "#filled null values with zero instead of droping , because we can have it from other data\n",
    "bom_movie_gross=bom_movie_gross.fillna(0)"
   ]
  },
  {
   "cell_type": "code",
   "execution_count": 15,
   "metadata": {},
   "outputs": [],
   "source": [
    "cols=['domestic_gross','foreign_gross']\n",
    "bom_movie_gross[cols]=bom_movie_gross[cols].astype(int)"
   ]
  },
  {
   "cell_type": "code",
   "execution_count": 16,
   "metadata": {},
   "outputs": [],
   "source": [
    "# created new column world wide profit\n",
    "bom_movie_gross['world_wide_profit']=bom_movie_gross.foreign_gross+bom_movie_gross.domestic_gross"
   ]
  },
  {
   "cell_type": "code",
   "execution_count": 17,
   "metadata": {},
   "outputs": [
    {
     "data": {
      "text/html": [
       "<div>\n",
       "<style scoped>\n",
       "    .dataframe tbody tr th:only-of-type {\n",
       "        vertical-align: middle;\n",
       "    }\n",
       "\n",
       "    .dataframe tbody tr th {\n",
       "        vertical-align: top;\n",
       "    }\n",
       "\n",
       "    .dataframe thead th {\n",
       "        text-align: right;\n",
       "    }\n",
       "</style>\n",
       "<table border=\"1\" class=\"dataframe\">\n",
       "  <thead>\n",
       "    <tr style=\"text-align: right;\">\n",
       "      <th></th>\n",
       "      <th>title</th>\n",
       "      <th>studio</th>\n",
       "      <th>domestic_gross</th>\n",
       "      <th>foreign_gross</th>\n",
       "      <th>year</th>\n",
       "      <th>world_wide_profit</th>\n",
       "    </tr>\n",
       "  </thead>\n",
       "  <tbody>\n",
       "    <tr>\n",
       "      <th>1872</th>\n",
       "      <td>Star Wars: The Force Awakens</td>\n",
       "      <td>BV</td>\n",
       "      <td>936700000</td>\n",
       "      <td>1131000000</td>\n",
       "      <td>2015</td>\n",
       "      <td>2067700000</td>\n",
       "    </tr>\n",
       "    <tr>\n",
       "      <th>3080</th>\n",
       "      <td>Black Panther</td>\n",
       "      <td>BV</td>\n",
       "      <td>700100000</td>\n",
       "      <td>646900000</td>\n",
       "      <td>2018</td>\n",
       "      <td>1347000000</td>\n",
       "    </tr>\n",
       "    <tr>\n",
       "      <th>3079</th>\n",
       "      <td>Avengers: Infinity War</td>\n",
       "      <td>BV</td>\n",
       "      <td>678800000</td>\n",
       "      <td>136900000</td>\n",
       "      <td>2018</td>\n",
       "      <td>815700000</td>\n",
       "    </tr>\n",
       "    <tr>\n",
       "      <th>1873</th>\n",
       "      <td>Jurassic World</td>\n",
       "      <td>Uni.</td>\n",
       "      <td>652300000</td>\n",
       "      <td>10190000</td>\n",
       "      <td>2015</td>\n",
       "      <td>662490000</td>\n",
       "    </tr>\n",
       "    <tr>\n",
       "      <th>727</th>\n",
       "      <td>Marvel's The Avengers</td>\n",
       "      <td>BV</td>\n",
       "      <td>623400000</td>\n",
       "      <td>895500000</td>\n",
       "      <td>2012</td>\n",
       "      <td>1518900000</td>\n",
       "    </tr>\n",
       "    <tr>\n",
       "      <th>...</th>\n",
       "      <td>...</td>\n",
       "      <td>...</td>\n",
       "      <td>...</td>\n",
       "      <td>...</td>\n",
       "      <td>...</td>\n",
       "      <td>...</td>\n",
       "    </tr>\n",
       "    <tr>\n",
       "      <th>936</th>\n",
       "      <td>Lula, Son of Brazil</td>\n",
       "      <td>NYer</td>\n",
       "      <td>0</td>\n",
       "      <td>3800000</td>\n",
       "      <td>2012</td>\n",
       "      <td>3800000</td>\n",
       "    </tr>\n",
       "    <tr>\n",
       "      <th>1079</th>\n",
       "      <td>The Green Wave</td>\n",
       "      <td>RF</td>\n",
       "      <td>0</td>\n",
       "      <td>70100</td>\n",
       "      <td>2012</td>\n",
       "      <td>70100</td>\n",
       "    </tr>\n",
       "    <tr>\n",
       "      <th>1975</th>\n",
       "      <td>Surprise - Journey To The West</td>\n",
       "      <td>AR</td>\n",
       "      <td>0</td>\n",
       "      <td>49600000</td>\n",
       "      <td>2015</td>\n",
       "      <td>49600000</td>\n",
       "    </tr>\n",
       "    <tr>\n",
       "      <th>966</th>\n",
       "      <td>The Cup (2012)</td>\n",
       "      <td>Myr.</td>\n",
       "      <td>0</td>\n",
       "      <td>1800000</td>\n",
       "      <td>2012</td>\n",
       "      <td>1800000</td>\n",
       "    </tr>\n",
       "    <tr>\n",
       "      <th>537</th>\n",
       "      <td>Force</td>\n",
       "      <td>FoxS</td>\n",
       "      <td>0</td>\n",
       "      <td>4800000</td>\n",
       "      <td>2011</td>\n",
       "      <td>4800000</td>\n",
       "    </tr>\n",
       "  </tbody>\n",
       "</table>\n",
       "<p>3387 rows × 6 columns</p>\n",
       "</div>"
      ],
      "text/plain": [
       "                               title studio  domestic_gross  foreign_gross  \\\n",
       "1872    Star Wars: The Force Awakens     BV       936700000     1131000000   \n",
       "3080                   Black Panther     BV       700100000      646900000   \n",
       "3079          Avengers: Infinity War     BV       678800000      136900000   \n",
       "1873                  Jurassic World   Uni.       652300000       10190000   \n",
       "727            Marvel's The Avengers     BV       623400000      895500000   \n",
       "...                              ...    ...             ...            ...   \n",
       "936              Lula, Son of Brazil   NYer               0        3800000   \n",
       "1079                  The Green Wave     RF               0          70100   \n",
       "1975  Surprise - Journey To The West     AR               0       49600000   \n",
       "966                   The Cup (2012)   Myr.               0        1800000   \n",
       "537                            Force   FoxS               0        4800000   \n",
       "\n",
       "      year  world_wide_profit  \n",
       "1872  2015         2067700000  \n",
       "3080  2018         1347000000  \n",
       "3079  2018          815700000  \n",
       "1873  2015          662490000  \n",
       "727   2012         1518900000  \n",
       "...    ...                ...  \n",
       "936   2012            3800000  \n",
       "1079  2012              70100  \n",
       "1975  2015           49600000  \n",
       "966   2012            1800000  \n",
       "537   2011            4800000  \n",
       "\n",
       "[3387 rows x 6 columns]"
      ]
     },
     "execution_count": 17,
     "metadata": {},
     "output_type": "execute_result"
    }
   ],
   "source": [
    "bom_movie_gross.sort_values('domestic_gross' , ascending=False)"
   ]
  },
  {
   "cell_type": "code",
   "execution_count": 18,
   "metadata": {
    "scrolled": true
   },
   "outputs": [
    {
     "data": {
      "text/html": [
       "<div>\n",
       "<style scoped>\n",
       "    .dataframe tbody tr th:only-of-type {\n",
       "        vertical-align: middle;\n",
       "    }\n",
       "\n",
       "    .dataframe tbody tr th {\n",
       "        vertical-align: top;\n",
       "    }\n",
       "\n",
       "    .dataframe thead th {\n",
       "        text-align: right;\n",
       "    }\n",
       "</style>\n",
       "<table border=\"1\" class=\"dataframe\">\n",
       "  <thead>\n",
       "    <tr style=\"text-align: right;\">\n",
       "      <th></th>\n",
       "      <th>title</th>\n",
       "      <th>studio</th>\n",
       "      <th>domestic_gross</th>\n",
       "      <th>foreign_gross</th>\n",
       "      <th>year</th>\n",
       "      <th>world_wide_profit</th>\n",
       "    </tr>\n",
       "  </thead>\n",
       "  <tbody>\n",
       "    <tr>\n",
       "      <th>0</th>\n",
       "      <td>Toy Story 3</td>\n",
       "      <td>BV</td>\n",
       "      <td>415000000</td>\n",
       "      <td>652000000</td>\n",
       "      <td>2010</td>\n",
       "      <td>1067000000</td>\n",
       "    </tr>\n",
       "    <tr>\n",
       "      <th>1</th>\n",
       "      <td>Alice in Wonderland (2010)</td>\n",
       "      <td>BV</td>\n",
       "      <td>334200000</td>\n",
       "      <td>691300000</td>\n",
       "      <td>2010</td>\n",
       "      <td>1025500000</td>\n",
       "    </tr>\n",
       "    <tr>\n",
       "      <th>2</th>\n",
       "      <td>Harry Potter and the Deathly Hallows Part 1</td>\n",
       "      <td>WB</td>\n",
       "      <td>296000000</td>\n",
       "      <td>664300000</td>\n",
       "      <td>2010</td>\n",
       "      <td>960300000</td>\n",
       "    </tr>\n",
       "    <tr>\n",
       "      <th>3</th>\n",
       "      <td>Inception</td>\n",
       "      <td>WB</td>\n",
       "      <td>292600000</td>\n",
       "      <td>535700000</td>\n",
       "      <td>2010</td>\n",
       "      <td>828300000</td>\n",
       "    </tr>\n",
       "    <tr>\n",
       "      <th>4</th>\n",
       "      <td>Shrek Forever After</td>\n",
       "      <td>P/DW</td>\n",
       "      <td>238700000</td>\n",
       "      <td>513900000</td>\n",
       "      <td>2010</td>\n",
       "      <td>752600000</td>\n",
       "    </tr>\n",
       "  </tbody>\n",
       "</table>\n",
       "</div>"
      ],
      "text/plain": [
       "                                         title studio  domestic_gross  \\\n",
       "0                                  Toy Story 3     BV       415000000   \n",
       "1                   Alice in Wonderland (2010)     BV       334200000   \n",
       "2  Harry Potter and the Deathly Hallows Part 1     WB       296000000   \n",
       "3                                    Inception     WB       292600000   \n",
       "4                          Shrek Forever After   P/DW       238700000   \n",
       "\n",
       "   foreign_gross  year  world_wide_profit  \n",
       "0      652000000  2010         1067000000  \n",
       "1      691300000  2010         1025500000  \n",
       "2      664300000  2010          960300000  \n",
       "3      535700000  2010          828300000  \n",
       "4      513900000  2010          752600000  "
      ]
     },
     "execution_count": 18,
     "metadata": {},
     "output_type": "execute_result"
    }
   ],
   "source": [
    "bom_movie_gross.head()"
   ]
  },
  {
   "cell_type": "code",
   "execution_count": 19,
   "metadata": {
    "scrolled": false
   },
   "outputs": [
    {
     "data": {
      "text/plain": [
       "title                0\n",
       "studio               0\n",
       "domestic_gross       0\n",
       "foreign_gross        0\n",
       "year                 0\n",
       "world_wide_profit    0\n",
       "dtype: int64"
      ]
     },
     "execution_count": 19,
     "metadata": {},
     "output_type": "execute_result"
    }
   ],
   "source": [
    "bom_movie_gross.isna().sum()"
   ]
  },
  {
   "cell_type": "code",
   "execution_count": 20,
   "metadata": {},
   "outputs": [
    {
     "data": {
      "text/plain": [
       "(3387, 6)"
      ]
     },
     "execution_count": 20,
     "metadata": {},
     "output_type": "execute_result"
    }
   ],
   "source": [
    "bom_movie_gross.shape"
   ]
  },
  {
   "cell_type": "markdown",
   "metadata": {},
   "source": [
    "###### Movie_info data cleaning"
   ]
  },
  {
   "cell_type": "code",
   "execution_count": 21,
   "metadata": {},
   "outputs": [
    {
     "name": "stdout",
     "output_type": "stream",
     "text": [
      "<class 'pandas.core.frame.DataFrame'>\n",
      "RangeIndex: 1560 entries, 0 to 1559\n",
      "Data columns (total 12 columns):\n",
      " #   Column        Non-Null Count  Dtype \n",
      "---  ------        --------------  ----- \n",
      " 0   id            1560 non-null   int64 \n",
      " 1   synopsis      1498 non-null   object\n",
      " 2   rating        1557 non-null   object\n",
      " 3   genre         1552 non-null   object\n",
      " 4   director      1361 non-null   object\n",
      " 5   writer        1111 non-null   object\n",
      " 6   theater_date  1201 non-null   object\n",
      " 7   dvd_date      1201 non-null   object\n",
      " 8   currency      340 non-null    object\n",
      " 9   box_office    340 non-null    object\n",
      " 10  runtime       1530 non-null   object\n",
      " 11  studio        494 non-null    object\n",
      "dtypes: int64(1), object(11)\n",
      "memory usage: 146.4+ KB\n"
     ]
    }
   ],
   "source": [
    "movie_info.info()"
   ]
  },
  {
   "cell_type": "code",
   "execution_count": 22,
   "metadata": {},
   "outputs": [],
   "source": [
    "#droped currency and box_office columns from movie_info because they have a lot of null values\n",
    "movie_info.drop([\"currency\" , 'box_office'], axis='columns' , inplace=True)"
   ]
  },
  {
   "cell_type": "code",
   "execution_count": 23,
   "metadata": {
    "scrolled": false
   },
   "outputs": [
    {
     "data": {
      "text/html": [
       "<div>\n",
       "<style scoped>\n",
       "    .dataframe tbody tr th:only-of-type {\n",
       "        vertical-align: middle;\n",
       "    }\n",
       "\n",
       "    .dataframe tbody tr th {\n",
       "        vertical-align: top;\n",
       "    }\n",
       "\n",
       "    .dataframe thead th {\n",
       "        text-align: right;\n",
       "    }\n",
       "</style>\n",
       "<table border=\"1\" class=\"dataframe\">\n",
       "  <thead>\n",
       "    <tr style=\"text-align: right;\">\n",
       "      <th></th>\n",
       "      <th>id</th>\n",
       "      <th>synopsis</th>\n",
       "      <th>rating</th>\n",
       "      <th>genre</th>\n",
       "      <th>director</th>\n",
       "      <th>writer</th>\n",
       "      <th>theater_date</th>\n",
       "      <th>dvd_date</th>\n",
       "      <th>runtime</th>\n",
       "      <th>studio</th>\n",
       "    </tr>\n",
       "  </thead>\n",
       "  <tbody>\n",
       "    <tr>\n",
       "      <th>152</th>\n",
       "      <td>197</td>\n",
       "      <td>Adapted from the Frederick Forsythe novel, Dog...</td>\n",
       "      <td>R</td>\n",
       "      <td>Action and Adventure|Art House and Internation...</td>\n",
       "      <td>John Irvin</td>\n",
       "      <td>NaN</td>\n",
       "      <td>Jun 1, 1980</td>\n",
       "      <td>Nov 20, 2001</td>\n",
       "      <td>104 minutes</td>\n",
       "      <td>NaN</td>\n",
       "    </tr>\n",
       "    <tr>\n",
       "      <th>311</th>\n",
       "      <td>410</td>\n",
       "      <td>\"Cadillac Records\" is about the rise and fall ...</td>\n",
       "      <td>R</td>\n",
       "      <td>Drama|Musical and Performing Arts</td>\n",
       "      <td>Darnell Martin</td>\n",
       "      <td>Darnell Martin</td>\n",
       "      <td>Dec 5, 2008</td>\n",
       "      <td>Mar 10, 2009</td>\n",
       "      <td>108 minutes</td>\n",
       "      <td>Sony Pictures</td>\n",
       "    </tr>\n",
       "    <tr>\n",
       "      <th>63</th>\n",
       "      <td>80</td>\n",
       "      <td>When Francisco Manoel de Silva (Klaus Kinski) ...</td>\n",
       "      <td>NR</td>\n",
       "      <td>Action and Adventure|Art House and Internation...</td>\n",
       "      <td>Werner Herzog</td>\n",
       "      <td>Werner Herzog</td>\n",
       "      <td>Dec 3, 1987</td>\n",
       "      <td>Oct 24, 2000</td>\n",
       "      <td>110 minutes</td>\n",
       "      <td>NaN</td>\n",
       "    </tr>\n",
       "    <tr>\n",
       "      <th>1003</th>\n",
       "      <td>1297</td>\n",
       "      <td>Based on true events, WOMAN WALKS AHEAD tells ...</td>\n",
       "      <td>R</td>\n",
       "      <td>Drama</td>\n",
       "      <td>Susanna White</td>\n",
       "      <td>Steven Knight</td>\n",
       "      <td>Jun 29, 2018</td>\n",
       "      <td>Aug 28, 2018</td>\n",
       "      <td>102 minutes</td>\n",
       "      <td>NaN</td>\n",
       "    </tr>\n",
       "    <tr>\n",
       "      <th>25</th>\n",
       "      <td>35</td>\n",
       "      <td>In this film, conjoined twins Blake and Franci...</td>\n",
       "      <td>R</td>\n",
       "      <td>Drama</td>\n",
       "      <td>Michael Polish</td>\n",
       "      <td>Michael Polish|Mark Polish</td>\n",
       "      <td>Jul 30, 1999</td>\n",
       "      <td>Jan 18, 2000</td>\n",
       "      <td>110 minutes</td>\n",
       "      <td>NaN</td>\n",
       "    </tr>\n",
       "  </tbody>\n",
       "</table>\n",
       "</div>"
      ],
      "text/plain": [
       "        id                                           synopsis rating  \\\n",
       "152    197  Adapted from the Frederick Forsythe novel, Dog...      R   \n",
       "311    410  \"Cadillac Records\" is about the rise and fall ...      R   \n",
       "63      80  When Francisco Manoel de Silva (Klaus Kinski) ...     NR   \n",
       "1003  1297  Based on true events, WOMAN WALKS AHEAD tells ...      R   \n",
       "25      35  In this film, conjoined twins Blake and Franci...      R   \n",
       "\n",
       "                                                  genre        director  \\\n",
       "152   Action and Adventure|Art House and Internation...      John Irvin   \n",
       "311                   Drama|Musical and Performing Arts  Darnell Martin   \n",
       "63    Action and Adventure|Art House and Internation...   Werner Herzog   \n",
       "1003                                              Drama   Susanna White   \n",
       "25                                                Drama  Michael Polish   \n",
       "\n",
       "                          writer  theater_date      dvd_date      runtime  \\\n",
       "152                          NaN   Jun 1, 1980  Nov 20, 2001  104 minutes   \n",
       "311               Darnell Martin   Dec 5, 2008  Mar 10, 2009  108 minutes   \n",
       "63                 Werner Herzog   Dec 3, 1987  Oct 24, 2000  110 minutes   \n",
       "1003               Steven Knight  Jun 29, 2018  Aug 28, 2018  102 minutes   \n",
       "25    Michael Polish|Mark Polish  Jul 30, 1999  Jan 18, 2000  110 minutes   \n",
       "\n",
       "             studio  \n",
       "152             NaN  \n",
       "311   Sony Pictures  \n",
       "63              NaN  \n",
       "1003            NaN  \n",
       "25              NaN  "
      ]
     },
     "execution_count": 23,
     "metadata": {},
     "output_type": "execute_result"
    }
   ],
   "source": [
    "movie_info.sample(5)"
   ]
  },
  {
   "cell_type": "markdown",
   "metadata": {},
   "source": [
    "##### Reviews data cleaning"
   ]
  },
  {
   "cell_type": "code",
   "execution_count": 24,
   "metadata": {},
   "outputs": [
    {
     "data": {
      "text/plain": [
       "array([   3,    5,    6, ..., 1998, 1999, 2000], dtype=int64)"
      ]
     },
     "execution_count": 24,
     "metadata": {},
     "output_type": "execute_result"
    }
   ],
   "source": [
    "reviews.id.unique()"
   ]
  },
  {
   "cell_type": "code",
   "execution_count": 25,
   "metadata": {},
   "outputs": [
    {
     "name": "stdout",
     "output_type": "stream",
     "text": [
      "<class 'pandas.core.frame.DataFrame'>\n",
      "RangeIndex: 54432 entries, 0 to 54431\n",
      "Data columns (total 8 columns):\n",
      " #   Column      Non-Null Count  Dtype \n",
      "---  ------      --------------  ----- \n",
      " 0   id          54432 non-null  int64 \n",
      " 1   review      48869 non-null  object\n",
      " 2   rating      40915 non-null  object\n",
      " 3   fresh       54432 non-null  object\n",
      " 4   critic      51710 non-null  object\n",
      " 5   top_critic  54432 non-null  int64 \n",
      " 6   publisher   54123 non-null  object\n",
      " 7   date        54432 non-null  object\n",
      "dtypes: int64(2), object(6)\n",
      "memory usage: 3.3+ MB\n"
     ]
    }
   ],
   "source": [
    "reviews.info()"
   ]
  },
  {
   "cell_type": "code",
   "execution_count": 26,
   "metadata": {},
   "outputs": [],
   "source": [
    "#created a new column to have numeric values of fresh column -- fresh=1 and rotten=0\n",
    "reviews['num_fresh']=\"\"\n",
    "for index, value in reviews.fresh.items():\n",
    "    if value=='fresh':\n",
    "        reviews.at[index , 'num_fresh']=1\n",
    "    else: reviews.at[index , 'num_fresh']=0"
   ]
  },
  {
   "cell_type": "code",
   "execution_count": 27,
   "metadata": {},
   "outputs": [
    {
     "data": {
      "text/html": [
       "<div>\n",
       "<style scoped>\n",
       "    .dataframe tbody tr th:only-of-type {\n",
       "        vertical-align: middle;\n",
       "    }\n",
       "\n",
       "    .dataframe tbody tr th {\n",
       "        vertical-align: top;\n",
       "    }\n",
       "\n",
       "    .dataframe thead th {\n",
       "        text-align: right;\n",
       "    }\n",
       "</style>\n",
       "<table border=\"1\" class=\"dataframe\">\n",
       "  <thead>\n",
       "    <tr style=\"text-align: right;\">\n",
       "      <th></th>\n",
       "      <th>id</th>\n",
       "      <th>review</th>\n",
       "      <th>rating</th>\n",
       "      <th>fresh</th>\n",
       "      <th>critic</th>\n",
       "      <th>top_critic</th>\n",
       "      <th>publisher</th>\n",
       "      <th>date</th>\n",
       "      <th>num_fresh</th>\n",
       "    </tr>\n",
       "  </thead>\n",
       "  <tbody>\n",
       "    <tr>\n",
       "      <th>0</th>\n",
       "      <td>3</td>\n",
       "      <td>A distinctly gallows take on contemporary fina...</td>\n",
       "      <td>3/5</td>\n",
       "      <td>fresh</td>\n",
       "      <td>PJ Nabarro</td>\n",
       "      <td>0</td>\n",
       "      <td>Patrick Nabarro</td>\n",
       "      <td>November 10, 2018</td>\n",
       "      <td>1</td>\n",
       "    </tr>\n",
       "    <tr>\n",
       "      <th>1</th>\n",
       "      <td>3</td>\n",
       "      <td>It's an allegory in search of a meaning that n...</td>\n",
       "      <td>NaN</td>\n",
       "      <td>rotten</td>\n",
       "      <td>Annalee Newitz</td>\n",
       "      <td>0</td>\n",
       "      <td>io9.com</td>\n",
       "      <td>May 23, 2018</td>\n",
       "      <td>0</td>\n",
       "    </tr>\n",
       "    <tr>\n",
       "      <th>2</th>\n",
       "      <td>3</td>\n",
       "      <td>... life lived in a bubble in financial dealin...</td>\n",
       "      <td>NaN</td>\n",
       "      <td>fresh</td>\n",
       "      <td>Sean Axmaker</td>\n",
       "      <td>0</td>\n",
       "      <td>Stream on Demand</td>\n",
       "      <td>January 4, 2018</td>\n",
       "      <td>1</td>\n",
       "    </tr>\n",
       "    <tr>\n",
       "      <th>3</th>\n",
       "      <td>3</td>\n",
       "      <td>Continuing along a line introduced in last yea...</td>\n",
       "      <td>NaN</td>\n",
       "      <td>fresh</td>\n",
       "      <td>Daniel Kasman</td>\n",
       "      <td>0</td>\n",
       "      <td>MUBI</td>\n",
       "      <td>November 16, 2017</td>\n",
       "      <td>1</td>\n",
       "    </tr>\n",
       "    <tr>\n",
       "      <th>4</th>\n",
       "      <td>3</td>\n",
       "      <td>... a perverse twist on neorealism...</td>\n",
       "      <td>NaN</td>\n",
       "      <td>fresh</td>\n",
       "      <td>NaN</td>\n",
       "      <td>0</td>\n",
       "      <td>Cinema Scope</td>\n",
       "      <td>October 12, 2017</td>\n",
       "      <td>1</td>\n",
       "    </tr>\n",
       "  </tbody>\n",
       "</table>\n",
       "</div>"
      ],
      "text/plain": [
       "   id                                             review rating   fresh  \\\n",
       "0   3  A distinctly gallows take on contemporary fina...    3/5   fresh   \n",
       "1   3  It's an allegory in search of a meaning that n...    NaN  rotten   \n",
       "2   3  ... life lived in a bubble in financial dealin...    NaN   fresh   \n",
       "3   3  Continuing along a line introduced in last yea...    NaN   fresh   \n",
       "4   3             ... a perverse twist on neorealism...     NaN   fresh   \n",
       "\n",
       "           critic  top_critic         publisher               date num_fresh  \n",
       "0      PJ Nabarro           0   Patrick Nabarro  November 10, 2018         1  \n",
       "1  Annalee Newitz           0           io9.com       May 23, 2018         0  \n",
       "2    Sean Axmaker           0  Stream on Demand    January 4, 2018         1  \n",
       "3   Daniel Kasman           0              MUBI  November 16, 2017         1  \n",
       "4             NaN           0      Cinema Scope   October 12, 2017         1  "
      ]
     },
     "execution_count": 27,
     "metadata": {},
     "output_type": "execute_result"
    }
   ],
   "source": [
    "reviews.head()"
   ]
  },
  {
   "cell_type": "code",
   "execution_count": 28,
   "metadata": {
    "scrolled": true
   },
   "outputs": [
    {
     "data": {
      "text/plain": [
       "array(['3/5', nan, 'C', '2/5', 'B-', '2/4', 'B', '3/4', '4/5', '4/4',\n",
       "       '6/10', '1/4', '8', '2.5/4', '4/10', '2.0/5', '3/10', '7/10', 'A-',\n",
       "       '5/5', 'F', '3.5/4', 'D+', '1.5/4', '3.5/5', '8/10', 'B+', '9/10',\n",
       "       '2.5/5', '7.5/10', '5.5/10', 'C-', '1.5/5', '1/5', '5/10', 'C+',\n",
       "       '0/5', '6', '0.5/4', 'D', '3.1/5', '3/6', '4.5/5', '0/4', '2/10',\n",
       "       'D-', '7', '1/10', '3', 'A+', 'A', '4.0/4', '9.5/10', '2.5',\n",
       "       '2.1/2', '6.5/10', '3.7/5', '8.4/10', '9', '1', '7.2/10', '2.2/5',\n",
       "       '0.5/10', '5', '0', '2', '4.5', '7.7', '5.0/5', '8.5/10', '3.0/5',\n",
       "       '0.5/5', '1.5/10', '3.0/4', '2.3/10', '4.5/10', '4/6', '3.5',\n",
       "       '8.6/10', '6/8', '2.0/4', '2.7', '4.2/10', '5.8', '4', '7.1/10',\n",
       "       '5/4', 'N', '3.5/10', '5.8/10', 'R', '4.0/5', '0/10', '5.0/10',\n",
       "       '5.9/10', '2.4/5', '1.9/5', '4.9', '7.4/10', '1.5', '2.3/4',\n",
       "       '8.8/10', '4.0/10', '2.2', '3.8/10', '6.8/10', '7.3', '7.0/10',\n",
       "       '3.2', '4.2', '8.4', '5.5/5', '6.3/10', '7.6/10', '8.1/10',\n",
       "       '3.6/5', '2/6', '7.7/10', '1.8', '8.9/10', '8.9', '8.2/10',\n",
       "       '8.3/10', '2.6/6', '4.1/10', '2.5/10', 'F+', '6.0/10', '1.0/4',\n",
       "       '7.9/10', '8.7/10', '4.3/10', '9.6/10', '9.0/10', '4.0', '1.7',\n",
       "       '7.9', '6.7', '8.0/10', '9.2/10', '5.2', '5.9', '3.7', '4.7',\n",
       "       '6.2/10', '1/6', '8.2', '2.6/5', '3.4', '9.7', '3.3/5', '3.8/5',\n",
       "       '1/2', '7.4', '4.8', '1.6/5', '2/2', '1-5', '1.0', '4.3/5', '5/6',\n",
       "       '9.2', '2.7/5', '4.9/10', '3.0', '3.1', '7.8/10', 'F-', '2.3/5',\n",
       "       '3.0/10', '3/2', '7.8', '4.2/5', '9.0', '7.3/10', '4.4/5',\n",
       "       '6.9/10', '0/6', 'T', '6.2', '3.3', '9.8', '8.5', '1.0/5', '4.1',\n",
       "       '7.1', '3 1/2'], dtype=object)"
      ]
     },
     "execution_count": 28,
     "metadata": {},
     "output_type": "execute_result"
    }
   ],
   "source": [
    "reviews.rating.unique()"
   ]
  },
  {
   "cell_type": "code",
   "execution_count": 29,
   "metadata": {},
   "outputs": [
    {
     "name": "stdout",
     "output_type": "stream",
     "text": [
      "<class 'pandas.core.frame.DataFrame'>\n",
      "RangeIndex: 54432 entries, 0 to 54431\n",
      "Data columns (total 9 columns):\n",
      " #   Column      Non-Null Count  Dtype \n",
      "---  ------      --------------  ----- \n",
      " 0   id          54432 non-null  int64 \n",
      " 1   review      48869 non-null  object\n",
      " 2   rating      40915 non-null  object\n",
      " 3   fresh       54432 non-null  object\n",
      " 4   critic      51710 non-null  object\n",
      " 5   top_critic  54432 non-null  int64 \n",
      " 6   publisher   54123 non-null  object\n",
      " 7   date        54432 non-null  object\n",
      " 8   num_fresh   54432 non-null  object\n",
      "dtypes: int64(2), object(7)\n",
      "memory usage: 3.7+ MB\n"
     ]
    }
   ],
   "source": [
    "reviews.info()"
   ]
  },
  {
   "cell_type": "markdown",
   "metadata": {},
   "source": [
    "###### tmdb_df cleaning"
   ]
  },
  {
   "cell_type": "code",
   "execution_count": 30,
   "metadata": {},
   "outputs": [],
   "source": [
    "#dropped duplicated rows\n",
    "tmdb_df=tmdb_df.drop_duplicates()"
   ]
  },
  {
   "cell_type": "code",
   "execution_count": 31,
   "metadata": {},
   "outputs": [
    {
     "name": "stdout",
     "output_type": "stream",
     "text": [
      "<class 'pandas.core.frame.DataFrame'>\n",
      "Index: 25497 entries, 0 to 26516\n",
      "Data columns (total 9 columns):\n",
      " #   Column             Non-Null Count  Dtype  \n",
      "---  ------             --------------  -----  \n",
      " 0   genre_ids          25497 non-null  object \n",
      " 1   id                 25497 non-null  int64  \n",
      " 2   original_language  25497 non-null  object \n",
      " 3   original_title     25497 non-null  object \n",
      " 4   popularity         25497 non-null  float64\n",
      " 5   release_date       25497 non-null  object \n",
      " 6   title              25497 non-null  object \n",
      " 7   vote_average       25497 non-null  float64\n",
      " 8   vote_count         25497 non-null  int64  \n",
      "dtypes: float64(2), int64(2), object(5)\n",
      "memory usage: 1.9+ MB\n"
     ]
    }
   ],
   "source": [
    "tmdb_df.info()"
   ]
  },
  {
   "cell_type": "code",
   "execution_count": 32,
   "metadata": {},
   "outputs": [],
   "source": [
    "genre_map = {28: 'Action', 12: 'Adventure', 16: 'Animation', 35: 'Comedy',\n",
    "             80: 'Crime', 99: 'Documentary', 18: 'Drama', 10751: 'Family', \n",
    "             14: 'Fantasy', 36: 'History', 27: 'Horror', 10402: 'Music', \n",
    "             9648: 'Mystery', 10749: 'Romance', 878: 'Science Fiction', \n",
    "             10770: 'TV Movie', 53: 'Thriller', 10752: 'War', 37: 'Western'}\n",
    "#tmdb['genres'] = tmdb['genre_ids'].apply(lambda x: [genre_map[int(genre_id)] for genre_id in eval(x)])\n",
    "tmdb_df['genres_labels'] = tmdb_df['genre_ids'].apply(lambda x: ', '.join([genre_map[int(genre_id)] for genre_id in eval(x)]))\n"
   ]
  },
  {
   "cell_type": "code",
   "execution_count": 33,
   "metadata": {},
   "outputs": [
    {
     "data": {
      "text/html": [
       "<div>\n",
       "<style scoped>\n",
       "    .dataframe tbody tr th:only-of-type {\n",
       "        vertical-align: middle;\n",
       "    }\n",
       "\n",
       "    .dataframe tbody tr th {\n",
       "        vertical-align: top;\n",
       "    }\n",
       "\n",
       "    .dataframe thead th {\n",
       "        text-align: right;\n",
       "    }\n",
       "</style>\n",
       "<table border=\"1\" class=\"dataframe\">\n",
       "  <thead>\n",
       "    <tr style=\"text-align: right;\">\n",
       "      <th></th>\n",
       "      <th>genre_ids</th>\n",
       "      <th>id</th>\n",
       "      <th>original_language</th>\n",
       "      <th>original_title</th>\n",
       "      <th>popularity</th>\n",
       "      <th>release_date</th>\n",
       "      <th>title</th>\n",
       "      <th>vote_average</th>\n",
       "      <th>vote_count</th>\n",
       "      <th>genres_labels</th>\n",
       "    </tr>\n",
       "  </thead>\n",
       "  <tbody>\n",
       "    <tr>\n",
       "      <th>0</th>\n",
       "      <td>[12, 14, 10751]</td>\n",
       "      <td>12444</td>\n",
       "      <td>en</td>\n",
       "      <td>Harry Potter and the Deathly Hallows: Part 1</td>\n",
       "      <td>33.533</td>\n",
       "      <td>2010-11-19</td>\n",
       "      <td>Harry Potter and the Deathly Hallows: Part 1</td>\n",
       "      <td>7.7</td>\n",
       "      <td>10788</td>\n",
       "      <td>Adventure, Fantasy, Family</td>\n",
       "    </tr>\n",
       "    <tr>\n",
       "      <th>1</th>\n",
       "      <td>[14, 12, 16, 10751]</td>\n",
       "      <td>10191</td>\n",
       "      <td>en</td>\n",
       "      <td>How to Train Your Dragon</td>\n",
       "      <td>28.734</td>\n",
       "      <td>2010-03-26</td>\n",
       "      <td>How to Train Your Dragon</td>\n",
       "      <td>7.7</td>\n",
       "      <td>7610</td>\n",
       "      <td>Fantasy, Adventure, Animation, Family</td>\n",
       "    </tr>\n",
       "  </tbody>\n",
       "</table>\n",
       "</div>"
      ],
      "text/plain": [
       "             genre_ids     id original_language  \\\n",
       "0      [12, 14, 10751]  12444                en   \n",
       "1  [14, 12, 16, 10751]  10191                en   \n",
       "\n",
       "                                 original_title  popularity release_date  \\\n",
       "0  Harry Potter and the Deathly Hallows: Part 1      33.533   2010-11-19   \n",
       "1                      How to Train Your Dragon      28.734   2010-03-26   \n",
       "\n",
       "                                          title  vote_average  vote_count  \\\n",
       "0  Harry Potter and the Deathly Hallows: Part 1           7.7       10788   \n",
       "1                      How to Train Your Dragon           7.7        7610   \n",
       "\n",
       "                           genres_labels  \n",
       "0             Adventure, Fantasy, Family  \n",
       "1  Fantasy, Adventure, Animation, Family  "
      ]
     },
     "execution_count": 33,
     "metadata": {},
     "output_type": "execute_result"
    }
   ],
   "source": [
    "tmdb_df.head(2)"
   ]
  },
  {
   "cell_type": "code",
   "execution_count": 74,
   "metadata": {},
   "outputs": [
    {
     "data": {
      "text/html": [
       "<div>\n",
       "<style scoped>\n",
       "    .dataframe tbody tr th:only-of-type {\n",
       "        vertical-align: middle;\n",
       "    }\n",
       "\n",
       "    .dataframe tbody tr th {\n",
       "        vertical-align: top;\n",
       "    }\n",
       "\n",
       "    .dataframe thead th {\n",
       "        text-align: right;\n",
       "    }\n",
       "</style>\n",
       "<table border=\"1\" class=\"dataframe\">\n",
       "  <thead>\n",
       "    <tr style=\"text-align: right;\">\n",
       "      <th></th>\n",
       "      <th>genre_ids</th>\n",
       "      <th>id</th>\n",
       "      <th>original_language</th>\n",
       "      <th>original_title</th>\n",
       "      <th>popularity</th>\n",
       "      <th>release_date</th>\n",
       "      <th>title</th>\n",
       "      <th>vote_average</th>\n",
       "      <th>vote_count</th>\n",
       "      <th>genres_labels</th>\n",
       "    </tr>\n",
       "  </thead>\n",
       "  <tbody>\n",
       "    <tr>\n",
       "      <th>2</th>\n",
       "      <td>[12, 28, 878]</td>\n",
       "      <td>10138</td>\n",
       "      <td>en</td>\n",
       "      <td>Iron Man 2</td>\n",
       "      <td>28.515</td>\n",
       "      <td>2010-05-07</td>\n",
       "      <td>Iron Man 2</td>\n",
       "      <td>6.8</td>\n",
       "      <td>12368</td>\n",
       "      <td>Adventure, Action, Science Fiction</td>\n",
       "    </tr>\n",
       "    <tr>\n",
       "      <th>4</th>\n",
       "      <td>[28, 878, 12]</td>\n",
       "      <td>27205</td>\n",
       "      <td>en</td>\n",
       "      <td>Inception</td>\n",
       "      <td>27.920</td>\n",
       "      <td>2010-07-16</td>\n",
       "      <td>Inception</td>\n",
       "      <td>8.3</td>\n",
       "      <td>22186</td>\n",
       "      <td>Action, Science Fiction, Adventure</td>\n",
       "    </tr>\n",
       "    <tr>\n",
       "      <th>6</th>\n",
       "      <td>[28, 12, 14, 878]</td>\n",
       "      <td>19995</td>\n",
       "      <td>en</td>\n",
       "      <td>Avatar</td>\n",
       "      <td>26.526</td>\n",
       "      <td>2009-12-18</td>\n",
       "      <td>Avatar</td>\n",
       "      <td>7.4</td>\n",
       "      <td>18676</td>\n",
       "      <td>Action, Adventure, Fantasy, Science Fiction</td>\n",
       "    </tr>\n",
       "    <tr>\n",
       "      <th>9</th>\n",
       "      <td>[16, 28, 35, 10751, 878]</td>\n",
       "      <td>38055</td>\n",
       "      <td>en</td>\n",
       "      <td>Megamind</td>\n",
       "      <td>22.855</td>\n",
       "      <td>2010-11-04</td>\n",
       "      <td>Megamind</td>\n",
       "      <td>6.8</td>\n",
       "      <td>3635</td>\n",
       "      <td>Animation, Action, Comedy, Family, Science Fic...</td>\n",
       "    </tr>\n",
       "    <tr>\n",
       "      <th>12</th>\n",
       "      <td>[53, 12, 28]</td>\n",
       "      <td>27578</td>\n",
       "      <td>en</td>\n",
       "      <td>The Expendables</td>\n",
       "      <td>21.517</td>\n",
       "      <td>2010-08-03</td>\n",
       "      <td>The Expendables</td>\n",
       "      <td>6.1</td>\n",
       "      <td>4647</td>\n",
       "      <td>Thriller, Adventure, Action</td>\n",
       "    </tr>\n",
       "    <tr>\n",
       "      <th>16</th>\n",
       "      <td>[28, 53, 878]</td>\n",
       "      <td>20504</td>\n",
       "      <td>en</td>\n",
       "      <td>The Book of Eli</td>\n",
       "      <td>18.985</td>\n",
       "      <td>2010-01-11</td>\n",
       "      <td>The Book of Eli</td>\n",
       "      <td>6.7</td>\n",
       "      <td>3495</td>\n",
       "      <td>Action, Thriller, Science Fiction</td>\n",
       "    </tr>\n",
       "    <tr>\n",
       "      <th>18</th>\n",
       "      <td>[28, 18, 53]</td>\n",
       "      <td>2502</td>\n",
       "      <td>en</td>\n",
       "      <td>The Bourne Supremacy</td>\n",
       "      <td>18.199</td>\n",
       "      <td>2004-07-23</td>\n",
       "      <td>The Bourne Supremacy</td>\n",
       "      <td>7.3</td>\n",
       "      <td>4367</td>\n",
       "      <td>Action, Drama, Thriller</td>\n",
       "    </tr>\n",
       "    <tr>\n",
       "      <th>20</th>\n",
       "      <td>[28, 18, 9648, 53]</td>\n",
       "      <td>2501</td>\n",
       "      <td>en</td>\n",
       "      <td>The Bourne Identity</td>\n",
       "      <td>17.935</td>\n",
       "      <td>2002-06-14</td>\n",
       "      <td>The Bourne Identity</td>\n",
       "      <td>7.4</td>\n",
       "      <td>5406</td>\n",
       "      <td>Action, Drama, Mystery, Thriller</td>\n",
       "    </tr>\n",
       "    <tr>\n",
       "      <th>21</th>\n",
       "      <td>[28, 35]</td>\n",
       "      <td>37834</td>\n",
       "      <td>en</td>\n",
       "      <td>Knight and Day</td>\n",
       "      <td>17.713</td>\n",
       "      <td>2010-06-23</td>\n",
       "      <td>Knight and Day</td>\n",
       "      <td>6.0</td>\n",
       "      <td>2494</td>\n",
       "      <td>Action, Comedy</td>\n",
       "    </tr>\n",
       "    <tr>\n",
       "      <th>24</th>\n",
       "      <td>[53, 28, 12, 35, 80]</td>\n",
       "      <td>34544</td>\n",
       "      <td>en</td>\n",
       "      <td>The A-Team</td>\n",
       "      <td>17.097</td>\n",
       "      <td>2010-06-11</td>\n",
       "      <td>The A-Team</td>\n",
       "      <td>6.3</td>\n",
       "      <td>2703</td>\n",
       "      <td>Thriller, Action, Adventure, Comedy, Crime</td>\n",
       "    </tr>\n",
       "    <tr>\n",
       "      <th>26</th>\n",
       "      <td>[28, 35, 80, 53]</td>\n",
       "      <td>9737</td>\n",
       "      <td>en</td>\n",
       "      <td>Bad Boys</td>\n",
       "      <td>16.608</td>\n",
       "      <td>1995-04-07</td>\n",
       "      <td>Bad Boys</td>\n",
       "      <td>6.6</td>\n",
       "      <td>2936</td>\n",
       "      <td>Action, Comedy, Crime, Thriller</td>\n",
       "    </tr>\n",
       "    <tr>\n",
       "      <th>27</th>\n",
       "      <td>[28, 12, 10751, 14]</td>\n",
       "      <td>10196</td>\n",
       "      <td>en</td>\n",
       "      <td>The Last Airbender</td>\n",
       "      <td>16.595</td>\n",
       "      <td>2010-07-01</td>\n",
       "      <td>The Last Airbender</td>\n",
       "      <td>4.6</td>\n",
       "      <td>2143</td>\n",
       "      <td>Action, Adventure, Family, Fantasy</td>\n",
       "    </tr>\n",
       "    <tr>\n",
       "      <th>28</th>\n",
       "      <td>[28, 878, 12, 53]</td>\n",
       "      <td>34851</td>\n",
       "      <td>en</td>\n",
       "      <td>Predators</td>\n",
       "      <td>16.216</td>\n",
       "      <td>2010-07-03</td>\n",
       "      <td>Predators</td>\n",
       "      <td>6.1</td>\n",
       "      <td>1979</td>\n",
       "      <td>Action, Science Fiction, Adventure, Thriller</td>\n",
       "    </tr>\n",
       "    <tr>\n",
       "      <th>30</th>\n",
       "      <td>[28, 53]</td>\n",
       "      <td>38234</td>\n",
       "      <td>en</td>\n",
       "      <td>Undisputed III: Redemption</td>\n",
       "      <td>15.886</td>\n",
       "      <td>2010-05-22</td>\n",
       "      <td>Undisputed III: Redemption</td>\n",
       "      <td>7.4</td>\n",
       "      <td>302</td>\n",
       "      <td>Action, Thriller</td>\n",
       "    </tr>\n",
       "    <tr>\n",
       "      <th>32</th>\n",
       "      <td>[28, 53, 878, 12]</td>\n",
       "      <td>95</td>\n",
       "      <td>en</td>\n",
       "      <td>Armageddon</td>\n",
       "      <td>15.799</td>\n",
       "      <td>1998-07-01</td>\n",
       "      <td>Armageddon</td>\n",
       "      <td>6.7</td>\n",
       "      <td>4267</td>\n",
       "      <td>Action, Thriller, Science Fiction, Adventure</td>\n",
       "    </tr>\n",
       "    <tr>\n",
       "      <th>33</th>\n",
       "      <td>[28, 18, 9648, 53]</td>\n",
       "      <td>2503</td>\n",
       "      <td>en</td>\n",
       "      <td>The Bourne Ultimatum</td>\n",
       "      <td>15.620</td>\n",
       "      <td>2007-08-03</td>\n",
       "      <td>The Bourne Ultimatum</td>\n",
       "      <td>7.4</td>\n",
       "      <td>4440</td>\n",
       "      <td>Action, Drama, Mystery, Thriller</td>\n",
       "    </tr>\n",
       "    <tr>\n",
       "      <th>34</th>\n",
       "      <td>[12, 14, 28]</td>\n",
       "      <td>18823</td>\n",
       "      <td>en</td>\n",
       "      <td>Clash of the Titans</td>\n",
       "      <td>15.574</td>\n",
       "      <td>2010-04-02</td>\n",
       "      <td>Clash of the Titans</td>\n",
       "      <td>5.7</td>\n",
       "      <td>3714</td>\n",
       "      <td>Adventure, Fantasy, Action</td>\n",
       "    </tr>\n",
       "    <tr>\n",
       "      <th>36</th>\n",
       "      <td>[28, 12, 18]</td>\n",
       "      <td>20662</td>\n",
       "      <td>en</td>\n",
       "      <td>Robin Hood</td>\n",
       "      <td>15.444</td>\n",
       "      <td>2010-05-14</td>\n",
       "      <td>Robin Hood</td>\n",
       "      <td>6.3</td>\n",
       "      <td>2569</td>\n",
       "      <td>Action, Adventure, Drama</td>\n",
       "    </tr>\n",
       "    <tr>\n",
       "      <th>40</th>\n",
       "      <td>[14, 12, 28, 35, 18]</td>\n",
       "      <td>27022</td>\n",
       "      <td>en</td>\n",
       "      <td>The Sorcerer's Apprentice</td>\n",
       "      <td>14.463</td>\n",
       "      <td>2010-07-13</td>\n",
       "      <td>The Sorcerer's Apprentice</td>\n",
       "      <td>5.9</td>\n",
       "      <td>2879</td>\n",
       "      <td>Fantasy, Adventure, Action, Comedy, Drama</td>\n",
       "    </tr>\n",
       "    <tr>\n",
       "      <th>41</th>\n",
       "      <td>[28, 35, 10749]</td>\n",
       "      <td>22538</td>\n",
       "      <td>en</td>\n",
       "      <td>Scott Pilgrim vs. the World</td>\n",
       "      <td>14.383</td>\n",
       "      <td>2010-08-13</td>\n",
       "      <td>Scott Pilgrim vs. the World</td>\n",
       "      <td>7.3</td>\n",
       "      <td>3882</td>\n",
       "      <td>Action, Comedy, Romance</td>\n",
       "    </tr>\n",
       "  </tbody>\n",
       "</table>\n",
       "</div>"
      ],
      "text/plain": [
       "                   genre_ids     id original_language  \\\n",
       "2              [12, 28, 878]  10138                en   \n",
       "4              [28, 878, 12]  27205                en   \n",
       "6          [28, 12, 14, 878]  19995                en   \n",
       "9   [16, 28, 35, 10751, 878]  38055                en   \n",
       "12              [53, 12, 28]  27578                en   \n",
       "16             [28, 53, 878]  20504                en   \n",
       "18              [28, 18, 53]   2502                en   \n",
       "20        [28, 18, 9648, 53]   2501                en   \n",
       "21                  [28, 35]  37834                en   \n",
       "24      [53, 28, 12, 35, 80]  34544                en   \n",
       "26          [28, 35, 80, 53]   9737                en   \n",
       "27       [28, 12, 10751, 14]  10196                en   \n",
       "28         [28, 878, 12, 53]  34851                en   \n",
       "30                  [28, 53]  38234                en   \n",
       "32         [28, 53, 878, 12]     95                en   \n",
       "33        [28, 18, 9648, 53]   2503                en   \n",
       "34              [12, 14, 28]  18823                en   \n",
       "36              [28, 12, 18]  20662                en   \n",
       "40      [14, 12, 28, 35, 18]  27022                en   \n",
       "41           [28, 35, 10749]  22538                en   \n",
       "\n",
       "                 original_title  popularity release_date  \\\n",
       "2                    Iron Man 2      28.515   2010-05-07   \n",
       "4                     Inception      27.920   2010-07-16   \n",
       "6                        Avatar      26.526   2009-12-18   \n",
       "9                      Megamind      22.855   2010-11-04   \n",
       "12              The Expendables      21.517   2010-08-03   \n",
       "16              The Book of Eli      18.985   2010-01-11   \n",
       "18         The Bourne Supremacy      18.199   2004-07-23   \n",
       "20          The Bourne Identity      17.935   2002-06-14   \n",
       "21               Knight and Day      17.713   2010-06-23   \n",
       "24                   The A-Team      17.097   2010-06-11   \n",
       "26                     Bad Boys      16.608   1995-04-07   \n",
       "27           The Last Airbender      16.595   2010-07-01   \n",
       "28                    Predators      16.216   2010-07-03   \n",
       "30   Undisputed III: Redemption      15.886   2010-05-22   \n",
       "32                   Armageddon      15.799   1998-07-01   \n",
       "33         The Bourne Ultimatum      15.620   2007-08-03   \n",
       "34          Clash of the Titans      15.574   2010-04-02   \n",
       "36                   Robin Hood      15.444   2010-05-14   \n",
       "40    The Sorcerer's Apprentice      14.463   2010-07-13   \n",
       "41  Scott Pilgrim vs. the World      14.383   2010-08-13   \n",
       "\n",
       "                          title  vote_average  vote_count  \\\n",
       "2                    Iron Man 2           6.8       12368   \n",
       "4                     Inception           8.3       22186   \n",
       "6                        Avatar           7.4       18676   \n",
       "9                      Megamind           6.8        3635   \n",
       "12              The Expendables           6.1        4647   \n",
       "16              The Book of Eli           6.7        3495   \n",
       "18         The Bourne Supremacy           7.3        4367   \n",
       "20          The Bourne Identity           7.4        5406   \n",
       "21               Knight and Day           6.0        2494   \n",
       "24                   The A-Team           6.3        2703   \n",
       "26                     Bad Boys           6.6        2936   \n",
       "27           The Last Airbender           4.6        2143   \n",
       "28                    Predators           6.1        1979   \n",
       "30   Undisputed III: Redemption           7.4         302   \n",
       "32                   Armageddon           6.7        4267   \n",
       "33         The Bourne Ultimatum           7.4        4440   \n",
       "34          Clash of the Titans           5.7        3714   \n",
       "36                   Robin Hood           6.3        2569   \n",
       "40    The Sorcerer's Apprentice           5.9        2879   \n",
       "41  Scott Pilgrim vs. the World           7.3        3882   \n",
       "\n",
       "                                        genres_labels  \n",
       "2                  Adventure, Action, Science Fiction  \n",
       "4                  Action, Science Fiction, Adventure  \n",
       "6         Action, Adventure, Fantasy, Science Fiction  \n",
       "9   Animation, Action, Comedy, Family, Science Fic...  \n",
       "12                        Thriller, Adventure, Action  \n",
       "16                  Action, Thriller, Science Fiction  \n",
       "18                            Action, Drama, Thriller  \n",
       "20                   Action, Drama, Mystery, Thriller  \n",
       "21                                     Action, Comedy  \n",
       "24         Thriller, Action, Adventure, Comedy, Crime  \n",
       "26                    Action, Comedy, Crime, Thriller  \n",
       "27                 Action, Adventure, Family, Fantasy  \n",
       "28       Action, Science Fiction, Adventure, Thriller  \n",
       "30                                   Action, Thriller  \n",
       "32       Action, Thriller, Science Fiction, Adventure  \n",
       "33                   Action, Drama, Mystery, Thriller  \n",
       "34                         Adventure, Fantasy, Action  \n",
       "36                           Action, Adventure, Drama  \n",
       "40          Fantasy, Adventure, Action, Comedy, Drama  \n",
       "41                            Action, Comedy, Romance  "
      ]
     },
     "execution_count": 74,
     "metadata": {},
     "output_type": "execute_result"
    }
   ],
   "source": [
    "tmdb_df.loc[tmdb_df.genres_labels.str.contains('Action')].head(20)"
   ]
  },
  {
   "cell_type": "code",
   "execution_count": 35,
   "metadata": {
    "scrolled": true
   },
   "outputs": [
    {
     "data": {
      "text/plain": [
       "genre_ids            0\n",
       "id                   0\n",
       "original_language    0\n",
       "original_title       0\n",
       "popularity           0\n",
       "release_date         0\n",
       "title                0\n",
       "vote_average         0\n",
       "vote_count           0\n",
       "genres_labels        0\n",
       "dtype: int64"
      ]
     },
     "execution_count": 35,
     "metadata": {},
     "output_type": "execute_result"
    }
   ],
   "source": [
    "tmdb_df.isna().sum()"
   ]
  },
  {
   "cell_type": "markdown",
   "metadata": {},
   "source": [
    "###### movie_budget cleaning"
   ]
  },
  {
   "cell_type": "code",
   "execution_count": 36,
   "metadata": {},
   "outputs": [],
   "source": [
    "#casting release date type in to datetime type\n",
    "movie_budget.release_date=pd.to_datetime(movie_budget.release_date)"
   ]
  },
  {
   "cell_type": "code",
   "execution_count": 37,
   "metadata": {},
   "outputs": [],
   "source": [
    "# function which helps us to omit $ and , from any column and cast it in to float type\n",
    "# used dtype=np,int64 to support long integers\n",
    "def change(data):\n",
    "    data = data.str.replace('[$,]', '', regex=True)\n",
    "    return data.astype(dtype=np.int64)\n"
   ]
  },
  {
   "cell_type": "code",
   "execution_count": 38,
   "metadata": {},
   "outputs": [],
   "source": [
    "#applied change function to three columns :domestic_gross,worldwide_gross, production_budget using apply method\n",
    "movie_budget[['domestic_gross', 'worldwide_gross', 'production_budget']] = movie_budget[['domestic_gross', 'worldwide_gross', 'production_budget']].apply(change)"
   ]
  },
  {
   "cell_type": "code",
   "execution_count": 39,
   "metadata": {},
   "outputs": [],
   "source": [
    "#created net profit by subructing budget from gross\n",
    "movie_budget['net_profit']= movie_budget['worldwide_gross'] - movie_budget['production_budget'] "
   ]
  },
  {
   "cell_type": "code",
   "execution_count": 40,
   "metadata": {},
   "outputs": [
    {
     "data": {
      "text/plain": [
       "(5782, 7)"
      ]
     },
     "execution_count": 40,
     "metadata": {},
     "output_type": "execute_result"
    }
   ],
   "source": [
    "movie_budget.shape"
   ]
  },
  {
   "cell_type": "markdown",
   "metadata": {},
   "source": [
    "#### Merged bom_movie_gross and movie_budget by title and movie columns respectiviely (inner)"
   ]
  },
  {
   "cell_type": "code",
   "execution_count": 41,
   "metadata": {
    "scrolled": true
   },
   "outputs": [
    {
     "data": {
      "text/plain": [
       "(3387, 6)"
      ]
     },
     "execution_count": 41,
     "metadata": {},
     "output_type": "execute_result"
    }
   ],
   "source": [
    "bom_movie_gross.shape"
   ]
  },
  {
   "cell_type": "code",
   "execution_count": 42,
   "metadata": {
    "scrolled": true
   },
   "outputs": [
    {
     "data": {
      "text/plain": [
       "(5782, 7)"
      ]
     },
     "execution_count": 42,
     "metadata": {},
     "output_type": "execute_result"
    }
   ],
   "source": [
    "movie_budget.shape"
   ]
  },
  {
   "cell_type": "code",
   "execution_count": 43,
   "metadata": {},
   "outputs": [],
   "source": [
    "#merged bom_movie_gross and movie_budget by title and movie columns respectiviely (inner)\n",
    "gross_budget = pd.merge(bom_movie_gross, movie_budget, how='inner', left_on='title', right_on='movie')"
   ]
  },
  {
   "cell_type": "code",
   "execution_count": 44,
   "metadata": {},
   "outputs": [
    {
     "data": {
      "text/plain": [
       "(1247, 13)"
      ]
     },
     "execution_count": 44,
     "metadata": {},
     "output_type": "execute_result"
    }
   ],
   "source": [
    "gross_budget.shape"
   ]
  },
  {
   "cell_type": "markdown",
   "metadata": {},
   "source": [
    "=========================================================================="
   ]
  },
  {
   "cell_type": "code",
   "execution_count": 45,
   "metadata": {},
   "outputs": [],
   "source": [
    "#function for creating a new column which has the values from both tables\n",
    "#def combine_titles(data , col1,col2):\n",
    "#    if pd.notna(data[col1]) and pd.notna(data[col2]):\n",
    "#        return data[col1]\n",
    "#    elif pd.notna(data[col1]):\n",
    "#        return data[col1]\n",
    "#    elif pd.notna(data[col2]):\n",
    "#        return data[col2]\n",
    "#    else:return None"
   ]
  },
  {
   "cell_type": "markdown",
   "metadata": {},
   "source": [
    "Calling the function"
   ]
  },
  {
   "cell_type": "code",
   "execution_count": 46,
   "metadata": {},
   "outputs": [],
   "source": [
    "#gross_budget['movie_title']=gross_budget.apply(combine_titles ,args=('movie','title'), axis=1)"
   ]
  },
  {
   "cell_type": "code",
   "execution_count": 47,
   "metadata": {},
   "outputs": [],
   "source": [
    "#gross_budget['domestic_gross']=gross_budget.apply(combine_titles ,args=('domestic_gross_y','domestic_gross_x'), axis=1)"
   ]
  },
  {
   "cell_type": "code",
   "execution_count": 48,
   "metadata": {},
   "outputs": [],
   "source": [
    "#gross_budget['world_wide_gross_Profit']=gross_budget.apply(combine_titles ,args=('worldwide_gross','world_wide_profit'), axis=1)"
   ]
  },
  {
   "cell_type": "code",
   "execution_count": 49,
   "metadata": {},
   "outputs": [],
   "source": [
    "# # filling foreign gross null values from domestic gross y - worldwide_gross\n",
    "# for index,value in enumerate(gross_budget.foreign_gross):\n",
    "#     if (pd.isna(value) or value==0.0):\n",
    "#         gross_budget.at[index,'foreign_gross']=gross_budget.world_wide_gross_Profit[index]- gross_budget.domestic_gross[index]"
   ]
  },
  {
   "cell_type": "code",
   "execution_count": 50,
   "metadata": {},
   "outputs": [],
   "source": [
    "#remove rows with zero values in world_wide_gross\n",
    "#gross_budget=gross_budget.loc[gross_budget.world_wide_gross_Profit!=0]\n",
    "#gross_budget=gross_budget.loc[gross_budget.domestic_gross!=0]"
   ]
  },
  {
   "cell_type": "markdown",
   "metadata": {},
   "source": [
    "========================================================="
   ]
  },
  {
   "cell_type": "code",
   "execution_count": 51,
   "metadata": {},
   "outputs": [],
   "source": [
    "#dropped columns which wont help us for analysis and also duplicates\n",
    "drop_cols=['studio','domestic_gross_x' ,'year','release_date','movie','world_wide_profit','id']\n",
    "gross_budget.drop(drop_cols , axis=1 , inplace=True)\n",
    "#gross_budget.set_index('id',inplace=True)"
   ]
  },
  {
   "cell_type": "code",
   "execution_count": 52,
   "metadata": {},
   "outputs": [
    {
     "data": {
      "text/html": [
       "<div>\n",
       "<style scoped>\n",
       "    .dataframe tbody tr th:only-of-type {\n",
       "        vertical-align: middle;\n",
       "    }\n",
       "\n",
       "    .dataframe tbody tr th {\n",
       "        vertical-align: top;\n",
       "    }\n",
       "\n",
       "    .dataframe thead th {\n",
       "        text-align: right;\n",
       "    }\n",
       "</style>\n",
       "<table border=\"1\" class=\"dataframe\">\n",
       "  <thead>\n",
       "    <tr style=\"text-align: right;\">\n",
       "      <th></th>\n",
       "      <th>title</th>\n",
       "      <th>foreign_gross</th>\n",
       "      <th>production_budget</th>\n",
       "      <th>domestic_gross_y</th>\n",
       "      <th>worldwide_gross</th>\n",
       "      <th>net_profit</th>\n",
       "    </tr>\n",
       "  </thead>\n",
       "  <tbody>\n",
       "    <tr>\n",
       "      <th>0</th>\n",
       "      <td>Toy Story 3</td>\n",
       "      <td>652000000</td>\n",
       "      <td>200000000</td>\n",
       "      <td>415004880</td>\n",
       "      <td>1068879522</td>\n",
       "      <td>868879522</td>\n",
       "    </tr>\n",
       "    <tr>\n",
       "      <th>1</th>\n",
       "      <td>Inception</td>\n",
       "      <td>535700000</td>\n",
       "      <td>160000000</td>\n",
       "      <td>292576195</td>\n",
       "      <td>835524642</td>\n",
       "      <td>675524642</td>\n",
       "    </tr>\n",
       "    <tr>\n",
       "      <th>2</th>\n",
       "      <td>Shrek Forever After</td>\n",
       "      <td>513900000</td>\n",
       "      <td>165000000</td>\n",
       "      <td>238736787</td>\n",
       "      <td>756244673</td>\n",
       "      <td>591244673</td>\n",
       "    </tr>\n",
       "    <tr>\n",
       "      <th>3</th>\n",
       "      <td>The Twilight Saga: Eclipse</td>\n",
       "      <td>398000000</td>\n",
       "      <td>68000000</td>\n",
       "      <td>300531751</td>\n",
       "      <td>706102828</td>\n",
       "      <td>638102828</td>\n",
       "    </tr>\n",
       "    <tr>\n",
       "      <th>4</th>\n",
       "      <td>Iron Man 2</td>\n",
       "      <td>311500000</td>\n",
       "      <td>170000000</td>\n",
       "      <td>312433331</td>\n",
       "      <td>621156389</td>\n",
       "      <td>451156389</td>\n",
       "    </tr>\n",
       "  </tbody>\n",
       "</table>\n",
       "</div>"
      ],
      "text/plain": [
       "                        title  foreign_gross  production_budget  \\\n",
       "0                 Toy Story 3      652000000          200000000   \n",
       "1                   Inception      535700000          160000000   \n",
       "2         Shrek Forever After      513900000          165000000   \n",
       "3  The Twilight Saga: Eclipse      398000000           68000000   \n",
       "4                  Iron Man 2      311500000          170000000   \n",
       "\n",
       "   domestic_gross_y  worldwide_gross  net_profit  \n",
       "0         415004880       1068879522   868879522  \n",
       "1         292576195        835524642   675524642  \n",
       "2         238736787        756244673   591244673  \n",
       "3         300531751        706102828   638102828  \n",
       "4         312433331        621156389   451156389  "
      ]
     },
     "execution_count": 52,
     "metadata": {},
     "output_type": "execute_result"
    }
   ],
   "source": [
    "gross_budget.head()"
   ]
  },
  {
   "cell_type": "code",
   "execution_count": 53,
   "metadata": {},
   "outputs": [],
   "source": [
    "gross_budget.dropna(subset=['net_profit', 'production_budget'], inplace=True)"
   ]
  },
  {
   "cell_type": "code",
   "execution_count": 54,
   "metadata": {},
   "outputs": [
    {
     "data": {
      "text/plain": [
       "(1247, 6)"
      ]
     },
     "execution_count": 54,
     "metadata": {},
     "output_type": "execute_result"
    }
   ],
   "source": [
    "gross_budget.shape"
   ]
  },
  {
   "cell_type": "code",
   "execution_count": 55,
   "metadata": {
    "scrolled": true
   },
   "outputs": [
    {
     "data": {
      "text/plain": [
       "title                0\n",
       "foreign_gross        0\n",
       "production_budget    0\n",
       "domestic_gross_y     0\n",
       "worldwide_gross      0\n",
       "net_profit           0\n",
       "dtype: int64"
      ]
     },
     "execution_count": 55,
     "metadata": {},
     "output_type": "execute_result"
    }
   ],
   "source": [
    "gross_budget.isna().sum()"
   ]
  },
  {
   "cell_type": "code",
   "execution_count": 56,
   "metadata": {},
   "outputs": [],
   "source": [
    "#created new column ROI(Return on investment)\n",
    "gross_budget['ROI']=(gross_budget.net_profit/gross_budget.production_budget)*100"
   ]
  },
  {
   "cell_type": "code",
   "execution_count": 57,
   "metadata": {
    "scrolled": false
   },
   "outputs": [
    {
     "data": {
      "text/html": [
       "<div>\n",
       "<style scoped>\n",
       "    .dataframe tbody tr th:only-of-type {\n",
       "        vertical-align: middle;\n",
       "    }\n",
       "\n",
       "    .dataframe tbody tr th {\n",
       "        vertical-align: top;\n",
       "    }\n",
       "\n",
       "    .dataframe thead th {\n",
       "        text-align: right;\n",
       "    }\n",
       "</style>\n",
       "<table border=\"1\" class=\"dataframe\">\n",
       "  <thead>\n",
       "    <tr style=\"text-align: right;\">\n",
       "      <th></th>\n",
       "      <th>title</th>\n",
       "      <th>foreign_gross</th>\n",
       "      <th>production_budget</th>\n",
       "      <th>domestic_gross_y</th>\n",
       "      <th>worldwide_gross</th>\n",
       "      <th>net_profit</th>\n",
       "      <th>ROI</th>\n",
       "    </tr>\n",
       "  </thead>\n",
       "  <tbody>\n",
       "    <tr>\n",
       "      <th>0</th>\n",
       "      <td>Toy Story 3</td>\n",
       "      <td>652000000</td>\n",
       "      <td>200000000</td>\n",
       "      <td>415004880</td>\n",
       "      <td>1068879522</td>\n",
       "      <td>868879522</td>\n",
       "      <td>434.439761</td>\n",
       "    </tr>\n",
       "    <tr>\n",
       "      <th>1</th>\n",
       "      <td>Inception</td>\n",
       "      <td>535700000</td>\n",
       "      <td>160000000</td>\n",
       "      <td>292576195</td>\n",
       "      <td>835524642</td>\n",
       "      <td>675524642</td>\n",
       "      <td>422.202901</td>\n",
       "    </tr>\n",
       "    <tr>\n",
       "      <th>2</th>\n",
       "      <td>Shrek Forever After</td>\n",
       "      <td>513900000</td>\n",
       "      <td>165000000</td>\n",
       "      <td>238736787</td>\n",
       "      <td>756244673</td>\n",
       "      <td>591244673</td>\n",
       "      <td>358.330105</td>\n",
       "    </tr>\n",
       "    <tr>\n",
       "      <th>3</th>\n",
       "      <td>The Twilight Saga: Eclipse</td>\n",
       "      <td>398000000</td>\n",
       "      <td>68000000</td>\n",
       "      <td>300531751</td>\n",
       "      <td>706102828</td>\n",
       "      <td>638102828</td>\n",
       "      <td>938.386512</td>\n",
       "    </tr>\n",
       "    <tr>\n",
       "      <th>4</th>\n",
       "      <td>Iron Man 2</td>\n",
       "      <td>311500000</td>\n",
       "      <td>170000000</td>\n",
       "      <td>312433331</td>\n",
       "      <td>621156389</td>\n",
       "      <td>451156389</td>\n",
       "      <td>265.386111</td>\n",
       "    </tr>\n",
       "  </tbody>\n",
       "</table>\n",
       "</div>"
      ],
      "text/plain": [
       "                        title  foreign_gross  production_budget  \\\n",
       "0                 Toy Story 3      652000000          200000000   \n",
       "1                   Inception      535700000          160000000   \n",
       "2         Shrek Forever After      513900000          165000000   \n",
       "3  The Twilight Saga: Eclipse      398000000           68000000   \n",
       "4                  Iron Man 2      311500000          170000000   \n",
       "\n",
       "   domestic_gross_y  worldwide_gross  net_profit         ROI  \n",
       "0         415004880       1068879522   868879522  434.439761  \n",
       "1         292576195        835524642   675524642  422.202901  \n",
       "2         238736787        756244673   591244673  358.330105  \n",
       "3         300531751        706102828   638102828  938.386512  \n",
       "4         312433331        621156389   451156389  265.386111  "
      ]
     },
     "execution_count": 57,
     "metadata": {},
     "output_type": "execute_result"
    }
   ],
   "source": [
    "gross_budget.head()"
   ]
  },
  {
   "cell_type": "code",
   "execution_count": 58,
   "metadata": {},
   "outputs": [
    {
     "data": {
      "text/plain": [
       "(9, 7)"
      ]
     },
     "execution_count": 58,
     "metadata": {},
     "output_type": "execute_result"
    }
   ],
   "source": [
    "gross_budget.loc[gross_budget.title.duplicated()].shape"
   ]
  },
  {
   "cell_type": "code",
   "execution_count": 59,
   "metadata": {},
   "outputs": [],
   "source": [
    "gross_budget=gross_budget.loc[gross_budget.title.duplicated()==False]"
   ]
  },
  {
   "cell_type": "code",
   "execution_count": 60,
   "metadata": {
    "scrolled": false
   },
   "outputs": [
    {
     "data": {
      "text/html": [
       "<div>\n",
       "<style scoped>\n",
       "    .dataframe tbody tr th:only-of-type {\n",
       "        vertical-align: middle;\n",
       "    }\n",
       "\n",
       "    .dataframe tbody tr th {\n",
       "        vertical-align: top;\n",
       "    }\n",
       "\n",
       "    .dataframe thead th {\n",
       "        text-align: right;\n",
       "    }\n",
       "</style>\n",
       "<table border=\"1\" class=\"dataframe\">\n",
       "  <thead>\n",
       "    <tr style=\"text-align: right;\">\n",
       "      <th></th>\n",
       "      <th>title</th>\n",
       "      <th>foreign_gross</th>\n",
       "      <th>production_budget</th>\n",
       "      <th>domestic_gross_y</th>\n",
       "      <th>worldwide_gross</th>\n",
       "      <th>net_profit</th>\n",
       "      <th>ROI</th>\n",
       "    </tr>\n",
       "  </thead>\n",
       "  <tbody>\n",
       "    <tr>\n",
       "      <th>1154</th>\n",
       "      <td>Avengers: Infinity War</td>\n",
       "      <td>136900000</td>\n",
       "      <td>300000000</td>\n",
       "      <td>678815482</td>\n",
       "      <td>2048134200</td>\n",
       "      <td>1748134200</td>\n",
       "      <td>582.711400</td>\n",
       "    </tr>\n",
       "    <tr>\n",
       "      <th>764</th>\n",
       "      <td>Jurassic World</td>\n",
       "      <td>10190000</td>\n",
       "      <td>215000000</td>\n",
       "      <td>652270625</td>\n",
       "      <td>1648854864</td>\n",
       "      <td>1433854864</td>\n",
       "      <td>666.909239</td>\n",
       "    </tr>\n",
       "    <tr>\n",
       "      <th>765</th>\n",
       "      <td>Furious 7</td>\n",
       "      <td>1163</td>\n",
       "      <td>190000000</td>\n",
       "      <td>353007020</td>\n",
       "      <td>1518722794</td>\n",
       "      <td>1328722794</td>\n",
       "      <td>699.327786</td>\n",
       "    </tr>\n",
       "    <tr>\n",
       "      <th>1155</th>\n",
       "      <td>Black Panther</td>\n",
       "      <td>646900000</td>\n",
       "      <td>200000000</td>\n",
       "      <td>700059566</td>\n",
       "      <td>1348258224</td>\n",
       "      <td>1148258224</td>\n",
       "      <td>574.129112</td>\n",
       "    </tr>\n",
       "    <tr>\n",
       "      <th>1156</th>\n",
       "      <td>Jurassic World: Fallen Kingdom</td>\n",
       "      <td>891800000</td>\n",
       "      <td>170000000</td>\n",
       "      <td>417719760</td>\n",
       "      <td>1305772799</td>\n",
       "      <td>1135772799</td>\n",
       "      <td>668.101646</td>\n",
       "    </tr>\n",
       "  </tbody>\n",
       "</table>\n",
       "</div>"
      ],
      "text/plain": [
       "                               title  foreign_gross  production_budget  \\\n",
       "1154          Avengers: Infinity War      136900000          300000000   \n",
       "764                   Jurassic World       10190000          215000000   \n",
       "765                        Furious 7           1163          190000000   \n",
       "1155                   Black Panther      646900000          200000000   \n",
       "1156  Jurassic World: Fallen Kingdom      891800000          170000000   \n",
       "\n",
       "      domestic_gross_y  worldwide_gross  net_profit         ROI  \n",
       "1154         678815482       2048134200  1748134200  582.711400  \n",
       "764          652270625       1648854864  1433854864  666.909239  \n",
       "765          353007020       1518722794  1328722794  699.327786  \n",
       "1155         700059566       1348258224  1148258224  574.129112  \n",
       "1156         417719760       1305772799  1135772799  668.101646  "
      ]
     },
     "execution_count": 60,
     "metadata": {},
     "output_type": "execute_result"
    }
   ],
   "source": [
    "gross_budget.sort_values('net_profit',ascending=False).head()"
   ]
  },
  {
   "cell_type": "code",
   "execution_count": 61,
   "metadata": {},
   "outputs": [
    {
     "data": {
      "text/plain": [
       "title                0\n",
       "foreign_gross        0\n",
       "production_budget    0\n",
       "domestic_gross_y     0\n",
       "worldwide_gross      0\n",
       "net_profit           0\n",
       "ROI                  0\n",
       "dtype: int64"
      ]
     },
     "execution_count": 61,
     "metadata": {},
     "output_type": "execute_result"
    }
   ],
   "source": [
    "gross_budget.isna().sum()"
   ]
  },
  {
   "cell_type": "markdown",
   "metadata": {},
   "source": [
    "###### Movie_basics cleaning"
   ]
  },
  {
   "cell_type": "code",
   "execution_count": 62,
   "metadata": {},
   "outputs": [
    {
     "data": {
      "text/html": [
       "<div>\n",
       "<style scoped>\n",
       "    .dataframe tbody tr th:only-of-type {\n",
       "        vertical-align: middle;\n",
       "    }\n",
       "\n",
       "    .dataframe tbody tr th {\n",
       "        vertical-align: top;\n",
       "    }\n",
       "\n",
       "    .dataframe thead th {\n",
       "        text-align: right;\n",
       "    }\n",
       "</style>\n",
       "<table border=\"1\" class=\"dataframe\">\n",
       "  <thead>\n",
       "    <tr style=\"text-align: right;\">\n",
       "      <th></th>\n",
       "      <th>movie_id</th>\n",
       "      <th>ordering</th>\n",
       "      <th>title</th>\n",
       "      <th>region</th>\n",
       "      <th>language</th>\n",
       "      <th>types</th>\n",
       "      <th>attributes</th>\n",
       "      <th>is_original_title</th>\n",
       "    </tr>\n",
       "  </thead>\n",
       "  <tbody>\n",
       "    <tr>\n",
       "      <th>0</th>\n",
       "      <td>tt0369610</td>\n",
       "      <td>21</td>\n",
       "      <td>Jurassic World 3D</td>\n",
       "      <td>US</td>\n",
       "      <td>None</td>\n",
       "      <td>None</td>\n",
       "      <td>3-D version</td>\n",
       "      <td>0.0</td>\n",
       "    </tr>\n",
       "    <tr>\n",
       "      <th>1</th>\n",
       "      <td>tt0369610</td>\n",
       "      <td>29</td>\n",
       "      <td>Jurassic World</td>\n",
       "      <td>US</td>\n",
       "      <td>None</td>\n",
       "      <td>None</td>\n",
       "      <td>None</td>\n",
       "      <td>0.0</td>\n",
       "    </tr>\n",
       "    <tr>\n",
       "      <th>2</th>\n",
       "      <td>tt0369610</td>\n",
       "      <td>2</td>\n",
       "      <td>Ebb Tide</td>\n",
       "      <td>US</td>\n",
       "      <td>None</td>\n",
       "      <td>None</td>\n",
       "      <td>fake working title</td>\n",
       "      <td>0.0</td>\n",
       "    </tr>\n",
       "    <tr>\n",
       "      <th>3</th>\n",
       "      <td>tt0369610</td>\n",
       "      <td>36</td>\n",
       "      <td>Jurassic Park IV</td>\n",
       "      <td>US</td>\n",
       "      <td>None</td>\n",
       "      <td>working</td>\n",
       "      <td>None</td>\n",
       "      <td>0.0</td>\n",
       "    </tr>\n",
       "    <tr>\n",
       "      <th>4</th>\n",
       "      <td>tt0369610</td>\n",
       "      <td>44</td>\n",
       "      <td>Jurassic Park 4</td>\n",
       "      <td>US</td>\n",
       "      <td>None</td>\n",
       "      <td>None</td>\n",
       "      <td>informal alternative title</td>\n",
       "      <td>0.0</td>\n",
       "    </tr>\n",
       "  </tbody>\n",
       "</table>\n",
       "</div>"
      ],
      "text/plain": [
       "    movie_id  ordering              title region language    types  \\\n",
       "0  tt0369610        21  Jurassic World 3D     US     None     None   \n",
       "1  tt0369610        29     Jurassic World     US     None     None   \n",
       "2  tt0369610         2           Ebb Tide     US     None     None   \n",
       "3  tt0369610        36   Jurassic Park IV     US     None  working   \n",
       "4  tt0369610        44    Jurassic Park 4     US     None     None   \n",
       "\n",
       "                   attributes  is_original_title  \n",
       "0                 3-D version                0.0  \n",
       "1                        None                0.0  \n",
       "2          fake working title                0.0  \n",
       "3                        None                0.0  \n",
       "4  informal alternative title                0.0  "
      ]
     },
     "execution_count": 62,
     "metadata": {},
     "output_type": "execute_result"
    }
   ],
   "source": [
    "query=(\"\"\"\n",
    "SELECT *\n",
    "FROM movie_akas\n",
    "WHERE region=='US'\n",
    "\n",
    "\"\"\")\n",
    "movie_basics=pd.read_sql(query,conn1)\n",
    "movie_basics.head()"
   ]
  },
  {
   "cell_type": "code",
   "execution_count": 63,
   "metadata": {},
   "outputs": [
    {
     "data": {
      "text/html": [
       "<div>\n",
       "<style scoped>\n",
       "    .dataframe tbody tr th:only-of-type {\n",
       "        vertical-align: middle;\n",
       "    }\n",
       "\n",
       "    .dataframe tbody tr th {\n",
       "        vertical-align: top;\n",
       "    }\n",
       "\n",
       "    .dataframe thead th {\n",
       "        text-align: right;\n",
       "    }\n",
       "</style>\n",
       "<table border=\"1\" class=\"dataframe\">\n",
       "  <thead>\n",
       "    <tr style=\"text-align: right;\">\n",
       "      <th></th>\n",
       "      <th>movie_id</th>\n",
       "      <th>primary_title</th>\n",
       "      <th>original_title</th>\n",
       "      <th>start_year</th>\n",
       "      <th>runtime_minutes</th>\n",
       "      <th>genres</th>\n",
       "      <th>averagerating</th>\n",
       "      <th>numvotes</th>\n",
       "    </tr>\n",
       "  </thead>\n",
       "  <tbody>\n",
       "    <tr>\n",
       "      <th>0</th>\n",
       "      <td>tt0063540</td>\n",
       "      <td>Sunghursh</td>\n",
       "      <td>Sunghursh</td>\n",
       "      <td>2013</td>\n",
       "      <td>175.0</td>\n",
       "      <td>Action,Crime,Drama</td>\n",
       "      <td>7.0</td>\n",
       "      <td>77</td>\n",
       "    </tr>\n",
       "    <tr>\n",
       "      <th>1</th>\n",
       "      <td>tt0066787</td>\n",
       "      <td>One Day Before the Rainy Season</td>\n",
       "      <td>Ashad Ka Ek Din</td>\n",
       "      <td>2019</td>\n",
       "      <td>114.0</td>\n",
       "      <td>Biography,Drama</td>\n",
       "      <td>7.2</td>\n",
       "      <td>43</td>\n",
       "    </tr>\n",
       "    <tr>\n",
       "      <th>2</th>\n",
       "      <td>tt0069049</td>\n",
       "      <td>The Other Side of the Wind</td>\n",
       "      <td>The Other Side of the Wind</td>\n",
       "      <td>2018</td>\n",
       "      <td>122.0</td>\n",
       "      <td>Drama</td>\n",
       "      <td>6.9</td>\n",
       "      <td>4517</td>\n",
       "    </tr>\n",
       "    <tr>\n",
       "      <th>3</th>\n",
       "      <td>tt0069204</td>\n",
       "      <td>Sabse Bada Sukh</td>\n",
       "      <td>Sabse Bada Sukh</td>\n",
       "      <td>2018</td>\n",
       "      <td>NaN</td>\n",
       "      <td>Comedy,Drama</td>\n",
       "      <td>6.1</td>\n",
       "      <td>13</td>\n",
       "    </tr>\n",
       "    <tr>\n",
       "      <th>4</th>\n",
       "      <td>tt0100275</td>\n",
       "      <td>The Wandering Soap Opera</td>\n",
       "      <td>La Telenovela Errante</td>\n",
       "      <td>2017</td>\n",
       "      <td>80.0</td>\n",
       "      <td>Comedy,Drama,Fantasy</td>\n",
       "      <td>6.5</td>\n",
       "      <td>119</td>\n",
       "    </tr>\n",
       "  </tbody>\n",
       "</table>\n",
       "</div>"
      ],
      "text/plain": [
       "    movie_id                    primary_title              original_title  \\\n",
       "0  tt0063540                        Sunghursh                   Sunghursh   \n",
       "1  tt0066787  One Day Before the Rainy Season             Ashad Ka Ek Din   \n",
       "2  tt0069049       The Other Side of the Wind  The Other Side of the Wind   \n",
       "3  tt0069204                  Sabse Bada Sukh             Sabse Bada Sukh   \n",
       "4  tt0100275         The Wandering Soap Opera       La Telenovela Errante   \n",
       "\n",
       "   start_year  runtime_minutes                genres  averagerating  numvotes  \n",
       "0        2013            175.0    Action,Crime,Drama            7.0        77  \n",
       "1        2019            114.0       Biography,Drama            7.2        43  \n",
       "2        2018            122.0                 Drama            6.9      4517  \n",
       "3        2018              NaN          Comedy,Drama            6.1        13  \n",
       "4        2017             80.0  Comedy,Drama,Fantasy            6.5       119  "
      ]
     },
     "execution_count": 63,
     "metadata": {},
     "output_type": "execute_result"
    }
   ],
   "source": [
    "#join movie_basic and movie_rating\n",
    "query=(\"\"\"\n",
    "SELECT *\n",
    "FROM movie_basics AS mb\n",
    "     JOIN movie_ratings AS mr \n",
    "     USING(movie_id)\n",
    "\"\"\")\n",
    "movie_basics_rating=pd.read_sql(query,conn1)\n",
    "movie_basics_rating.head()"
   ]
  },
  {
   "cell_type": "markdown",
   "metadata": {},
   "source": [
    "#### Merged gross_budget and movie_basic_rating to have the genra"
   ]
  },
  {
   "cell_type": "code",
   "execution_count": 64,
   "metadata": {},
   "outputs": [],
   "source": [
    "#merging gross_budget & tmdb on left\n",
    "gross_budget_genre = pd.merge(gross_budget,\n",
    "                       movie_basics_rating,\n",
    "                       left_on='title',\n",
    "                       right_on='primary_title',\n",
    "                       how='left')"
   ]
  },
  {
   "cell_type": "code",
   "execution_count": 65,
   "metadata": {},
   "outputs": [],
   "source": [
    "gross_budget_genre=gross_budget_genre.loc[gross_budget_genre.title.duplicated()==False]"
   ]
  },
  {
   "cell_type": "code",
   "execution_count": 66,
   "metadata": {},
   "outputs": [],
   "source": [
    "#dropped all null values\n",
    "gross_budget_genre = gross_budget_genre.dropna()"
   ]
  },
  {
   "cell_type": "code",
   "execution_count": 67,
   "metadata": {},
   "outputs": [],
   "source": [
    "#dropped unwanted cols\n",
    "drop_col2=['original_title','original_title','primary_title','start_year' , 'movie_id']\n",
    "gross_budget_genre.drop(drop_col2 , axis=1 , inplace=True)"
   ]
  },
  {
   "cell_type": "code",
   "execution_count": 68,
   "metadata": {
    "scrolled": false
   },
   "outputs": [
    {
     "data": {
      "text/html": [
       "<div>\n",
       "<style scoped>\n",
       "    .dataframe tbody tr th:only-of-type {\n",
       "        vertical-align: middle;\n",
       "    }\n",
       "\n",
       "    .dataframe tbody tr th {\n",
       "        vertical-align: top;\n",
       "    }\n",
       "\n",
       "    .dataframe thead th {\n",
       "        text-align: right;\n",
       "    }\n",
       "</style>\n",
       "<table border=\"1\" class=\"dataframe\">\n",
       "  <thead>\n",
       "    <tr style=\"text-align: right;\">\n",
       "      <th></th>\n",
       "      <th>title</th>\n",
       "      <th>foreign_gross</th>\n",
       "      <th>production_budget</th>\n",
       "      <th>domestic_gross_y</th>\n",
       "      <th>worldwide_gross</th>\n",
       "      <th>net_profit</th>\n",
       "      <th>ROI</th>\n",
       "      <th>runtime_minutes</th>\n",
       "      <th>genres</th>\n",
       "      <th>averagerating</th>\n",
       "      <th>numvotes</th>\n",
       "    </tr>\n",
       "  </thead>\n",
       "  <tbody>\n",
       "    <tr>\n",
       "      <th>0</th>\n",
       "      <td>Toy Story 3</td>\n",
       "      <td>652000000</td>\n",
       "      <td>200000000</td>\n",
       "      <td>415004880</td>\n",
       "      <td>1068879522</td>\n",
       "      <td>868879522</td>\n",
       "      <td>434.439761</td>\n",
       "      <td>103.0</td>\n",
       "      <td>Adventure,Animation,Comedy</td>\n",
       "      <td>8.3</td>\n",
       "      <td>682218.0</td>\n",
       "    </tr>\n",
       "    <tr>\n",
       "      <th>1</th>\n",
       "      <td>Inception</td>\n",
       "      <td>535700000</td>\n",
       "      <td>160000000</td>\n",
       "      <td>292576195</td>\n",
       "      <td>835524642</td>\n",
       "      <td>675524642</td>\n",
       "      <td>422.202901</td>\n",
       "      <td>148.0</td>\n",
       "      <td>Action,Adventure,Sci-Fi</td>\n",
       "      <td>8.8</td>\n",
       "      <td>1841066.0</td>\n",
       "    </tr>\n",
       "    <tr>\n",
       "      <th>2</th>\n",
       "      <td>Shrek Forever After</td>\n",
       "      <td>513900000</td>\n",
       "      <td>165000000</td>\n",
       "      <td>238736787</td>\n",
       "      <td>756244673</td>\n",
       "      <td>591244673</td>\n",
       "      <td>358.330105</td>\n",
       "      <td>93.0</td>\n",
       "      <td>Adventure,Animation,Comedy</td>\n",
       "      <td>6.3</td>\n",
       "      <td>167532.0</td>\n",
       "    </tr>\n",
       "  </tbody>\n",
       "</table>\n",
       "</div>"
      ],
      "text/plain": [
       "                 title  foreign_gross  production_budget  domestic_gross_y  \\\n",
       "0          Toy Story 3      652000000          200000000         415004880   \n",
       "1            Inception      535700000          160000000         292576195   \n",
       "2  Shrek Forever After      513900000          165000000         238736787   \n",
       "\n",
       "   worldwide_gross  net_profit         ROI  runtime_minutes  \\\n",
       "0       1068879522   868879522  434.439761            103.0   \n",
       "1        835524642   675524642  422.202901            148.0   \n",
       "2        756244673   591244673  358.330105             93.0   \n",
       "\n",
       "                       genres  averagerating   numvotes  \n",
       "0  Adventure,Animation,Comedy            8.3   682218.0  \n",
       "1     Action,Adventure,Sci-Fi            8.8  1841066.0  \n",
       "2  Adventure,Animation,Comedy            6.3   167532.0  "
      ]
     },
     "execution_count": 68,
     "metadata": {},
     "output_type": "execute_result"
    }
   ],
   "source": [
    "gross_budget_genre.head(3)"
   ]
  },
  {
   "cell_type": "code",
   "execution_count": 69,
   "metadata": {},
   "outputs": [
    {
     "data": {
      "text/plain": [
       "(1147, 11)"
      ]
     },
     "execution_count": 69,
     "metadata": {},
     "output_type": "execute_result"
    }
   ],
   "source": [
    "gross_budget_genre.shape"
   ]
  },
  {
   "cell_type": "markdown",
   "metadata": {},
   "source": [
    "Clean data to CSV"
   ]
  },
  {
   "cell_type": "code",
   "execution_count": 70,
   "metadata": {},
   "outputs": [],
   "source": [
    "gross_budget.to_csv('../Data/clean_data/gross_budget.csv')"
   ]
  },
  {
   "cell_type": "code",
   "execution_count": 71,
   "metadata": {},
   "outputs": [],
   "source": [
    "gross_budget_genre.to_csv('../Data/clean_data/gross_budget_genre.csv')"
   ]
  },
  {
   "cell_type": "code",
   "execution_count": null,
   "metadata": {},
   "outputs": [],
   "source": []
  }
 ],
 "metadata": {
  "kernelspec": {
   "display_name": "Python 3 (ipykernel)",
   "language": "python",
   "name": "python3"
  },
  "language_info": {
   "codemirror_mode": {
    "name": "ipython",
    "version": 3
   },
   "file_extension": ".py",
   "mimetype": "text/x-python",
   "name": "python",
   "nbconvert_exporter": "python",
   "pygments_lexer": "ipython3",
   "version": "3.11.5"
  }
 },
 "nbformat": 4,
 "nbformat_minor": 4
}
