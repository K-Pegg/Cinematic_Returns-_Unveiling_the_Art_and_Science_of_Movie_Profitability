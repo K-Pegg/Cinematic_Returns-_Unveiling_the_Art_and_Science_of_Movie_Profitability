{
 "cells": [
  {
   "cell_type": "code",
   "execution_count": 1,
   "metadata": {},
   "outputs": [],
   "source": [
    "import pandas as pd\n",
    "import numpy as np\n",
    "import scipy.stats as stats\n",
    "import sqlite3\n",
    "import matplotlib.pyplot as plt\n",
    "%matplotlib inline\n",
    "import seaborn as sns"
   ]
  },
  {
   "cell_type": "code",
   "execution_count": 35,
   "metadata": {},
   "outputs": [
    {
     "data": {
      "text/html": [
       "<div>\n",
       "<style scoped>\n",
       "    .dataframe tbody tr th:only-of-type {\n",
       "        vertical-align: middle;\n",
       "    }\n",
       "\n",
       "    .dataframe tbody tr th {\n",
       "        vertical-align: top;\n",
       "    }\n",
       "\n",
       "    .dataframe thead th {\n",
       "        text-align: right;\n",
       "    }\n",
       "</style>\n",
       "<table border=\"1\" class=\"dataframe\">\n",
       "  <thead>\n",
       "    <tr style=\"text-align: right;\">\n",
       "      <th></th>\n",
       "      <th>Unnamed: 0</th>\n",
       "      <th>foreign_gross</th>\n",
       "      <th>production_budget</th>\n",
       "      <th>net_profit</th>\n",
       "      <th>movie_title</th>\n",
       "      <th>domestic_gross</th>\n",
       "      <th>world_wide_gross_Profit</th>\n",
       "      <th>ROI</th>\n",
       "    </tr>\n",
       "  </thead>\n",
       "  <tbody>\n",
       "    <tr>\n",
       "      <th>0</th>\n",
       "      <td>0</td>\n",
       "      <td>652000000.0</td>\n",
       "      <td>200000000.0</td>\n",
       "      <td>868879522.0</td>\n",
       "      <td>Toy Story 3</td>\n",
       "      <td>415004880.0</td>\n",
       "      <td>1.068880e+09</td>\n",
       "      <td>434.439761</td>\n",
       "    </tr>\n",
       "    <tr>\n",
       "      <th>1</th>\n",
       "      <td>3</td>\n",
       "      <td>535700000.0</td>\n",
       "      <td>160000000.0</td>\n",
       "      <td>675524642.0</td>\n",
       "      <td>Inception</td>\n",
       "      <td>292576195.0</td>\n",
       "      <td>8.355246e+08</td>\n",
       "      <td>422.202901</td>\n",
       "    </tr>\n",
       "    <tr>\n",
       "      <th>2</th>\n",
       "      <td>4</td>\n",
       "      <td>513900000.0</td>\n",
       "      <td>165000000.0</td>\n",
       "      <td>591244673.0</td>\n",
       "      <td>Shrek Forever After</td>\n",
       "      <td>238736787.0</td>\n",
       "      <td>7.562447e+08</td>\n",
       "      <td>358.330105</td>\n",
       "    </tr>\n",
       "    <tr>\n",
       "      <th>3</th>\n",
       "      <td>5</td>\n",
       "      <td>398000000.0</td>\n",
       "      <td>68000000.0</td>\n",
       "      <td>638102828.0</td>\n",
       "      <td>The Twilight Saga: Eclipse</td>\n",
       "      <td>300531751.0</td>\n",
       "      <td>7.061028e+08</td>\n",
       "      <td>938.386512</td>\n",
       "    </tr>\n",
       "    <tr>\n",
       "      <th>4</th>\n",
       "      <td>6</td>\n",
       "      <td>311500000.0</td>\n",
       "      <td>170000000.0</td>\n",
       "      <td>451156389.0</td>\n",
       "      <td>Iron Man 2</td>\n",
       "      <td>312433331.0</td>\n",
       "      <td>6.211564e+08</td>\n",
       "      <td>265.386111</td>\n",
       "    </tr>\n",
       "  </tbody>\n",
       "</table>\n",
       "</div>"
      ],
      "text/plain": [
       "   Unnamed: 0  foreign_gross  production_budget   net_profit  \\\n",
       "0           0    652000000.0        200000000.0  868879522.0   \n",
       "1           3    535700000.0        160000000.0  675524642.0   \n",
       "2           4    513900000.0        165000000.0  591244673.0   \n",
       "3           5    398000000.0         68000000.0  638102828.0   \n",
       "4           6    311500000.0        170000000.0  451156389.0   \n",
       "\n",
       "                  movie_title  domestic_gross  world_wide_gross_Profit  \\\n",
       "0                 Toy Story 3     415004880.0             1.068880e+09   \n",
       "1                   Inception     292576195.0             8.355246e+08   \n",
       "2         Shrek Forever After     238736787.0             7.562447e+08   \n",
       "3  The Twilight Saga: Eclipse     300531751.0             7.061028e+08   \n",
       "4                  Iron Man 2     312433331.0             6.211564e+08   \n",
       "\n",
       "          ROI  \n",
       "0  434.439761  \n",
       "1  422.202901  \n",
       "2  358.330105  \n",
       "3  938.386512  \n",
       "4  265.386111  "
      ]
     },
     "execution_count": 35,
     "metadata": {},
     "output_type": "execute_result"
    }
   ],
   "source": [
    "gross_budget = pd.read_csv('../Data/gross_budget.csv')\n",
    "gross_budget.head()"
   ]
  },
  {
   "cell_type": "code",
   "execution_count": 36,
   "metadata": {},
   "outputs": [
    {
     "name": "stdout",
     "output_type": "stream",
     "text": [
      "<class 'pandas.core.frame.DataFrame'>\n",
      "RangeIndex: 5234 entries, 0 to 5233\n",
      "Data columns (total 8 columns):\n",
      " #   Column                   Non-Null Count  Dtype  \n",
      "---  ------                   --------------  -----  \n",
      " 0   Unnamed: 0               5234 non-null   int64  \n",
      " 1   foreign_gross            5234 non-null   float64\n",
      " 2   production_budget        5234 non-null   float64\n",
      " 3   net_profit               5234 non-null   float64\n",
      " 4   movie_title              5234 non-null   object \n",
      " 5   domestic_gross           5234 non-null   float64\n",
      " 6   world_wide_gross_Profit  5234 non-null   float64\n",
      " 7   ROI                      5234 non-null   float64\n",
      "dtypes: float64(6), int64(1), object(1)\n",
      "memory usage: 327.2+ KB\n"
     ]
    }
   ],
   "source": [
    "gross_budget.info()"
   ]
  },
  {
   "cell_type": "code",
   "execution_count": 37,
   "metadata": {},
   "outputs": [
    {
     "data": {
      "text/plain": [
       "(5234, 8)"
      ]
     },
     "execution_count": 37,
     "metadata": {},
     "output_type": "execute_result"
    }
   ],
   "source": [
    "gross_budget.shape"
   ]
  },
  {
   "cell_type": "code",
   "execution_count": 38,
   "metadata": {},
   "outputs": [
    {
     "data": {
      "text/plain": [
       "-99.98745454545454"
      ]
     },
     "execution_count": 38,
     "metadata": {},
     "output_type": "execute_result"
    }
   ],
   "source": [
    "lowest_ROI = gross_budget['ROI'].min()\n",
    "lowest_ROI"
   ]
  },
  {
   "cell_type": "code",
   "execution_count": 39,
   "metadata": {},
   "outputs": [
    {
     "data": {
      "text/plain": [
       "179900.0"
      ]
     },
     "execution_count": 39,
     "metadata": {},
     "output_type": "execute_result"
    }
   ],
   "source": [
    "highest_ROI = gross_budget['ROI'].max()\n",
    "highest_ROI "
   ]
  },
  {
   "cell_type": "code",
   "execution_count": 87,
   "metadata": {},
   "outputs": [
    {
     "data": {
      "text/plain": [
       "426.7876499678177"
      ]
     },
     "execution_count": 87,
     "metadata": {},
     "output_type": "execute_result"
    }
   ],
   "source": [
    "ROI_mean_tot = gross_budget['ROI'].mean()\n",
    "ROI_mean_tot"
   ]
  },
  {
   "cell_type": "code",
   "execution_count": 41,
   "metadata": {},
   "outputs": [
    {
     "data": {
      "text/plain": [
       "96.16530254545454"
      ]
     },
     "execution_count": 41,
     "metadata": {},
     "output_type": "execute_result"
    }
   ],
   "source": [
    "ROI_median = gross_budget['ROI'].median()\n",
    "ROI_median"
   ]
  },
  {
   "cell_type": "code",
   "execution_count": 42,
   "metadata": {
    "scrolled": true
   },
   "outputs": [
    {
     "data": {
      "text/plain": [
       "0    260.0\n",
       "1    800.0\n",
       "dtype: float64"
      ]
     },
     "execution_count": 42,
     "metadata": {},
     "output_type": "execute_result"
    }
   ],
   "source": [
    "ROI_mode = gross_budget['ROI'].mode()\n",
    "ROI_mode"
   ]
  },
  {
   "cell_type": "code",
   "execution_count": 44,
   "metadata": {},
   "outputs": [
    {
     "data": {
      "text/plain": [
       "3099.7659381775507"
      ]
     },
     "execution_count": 44,
     "metadata": {},
     "output_type": "execute_result"
    }
   ],
   "source": [
    "ROI_std = gross_budget['ROI'].std()\n",
    "ROI_std"
   ]
  },
  {
   "cell_type": "code",
   "execution_count": 29,
   "metadata": {},
   "outputs": [
    {
     "data": {
      "text/plain": [
       " 800.000000    3\n",
       " 260.000000    3\n",
       " 100.000000    2\n",
       "-66.666667     2\n",
       "-80.000000     2\n",
       " 300.000000    2\n",
       "-88.842137     2\n",
       "-99.878200     2\n",
       " 616.666667    2\n",
       " 344.444444    2\n",
       " 483.333333    2\n",
       " 400.000000    2\n",
       " 152.298867    1\n",
       " 687.629816    1\n",
       "-99.313000     1\n",
       " 152.272063    1\n",
       " 95.552450     1\n",
       "-13.304677     1\n",
       "-10.303507     1\n",
       "-94.039069     1\n",
       "Name: ROI, dtype: int64"
      ]
     },
     "execution_count": 29,
     "metadata": {},
     "output_type": "execute_result"
    }
   ],
   "source": [
    "ROI_counts = ROI[['ROI']].value_counts()\n",
    "\n",
    "ROI_mode_counts.head(20)\n"
   ]
  },
  {
   "cell_type": "code",
   "execution_count": 45,
   "metadata": {},
   "outputs": [
    {
     "data": {
      "text/plain": [
       "34033480.04948414"
      ]
     },
     "execution_count": 45,
     "metadata": {},
     "output_type": "execute_result"
    }
   ],
   "source": [
    "mean_pb = gross_budget['production_budget'].mean()\n",
    "mean_pb"
   ]
  },
  {
   "cell_type": "code",
   "execution_count": 46,
   "metadata": {},
   "outputs": [
    {
     "data": {
      "text/plain": [
       "20000000.0"
      ]
     },
     "execution_count": 46,
     "metadata": {},
     "output_type": "execute_result"
    }
   ],
   "source": [
    "median_pb = gross_budget['production_budget'].median()\n",
    "median_pb"
   ]
  },
  {
   "cell_type": "code",
   "execution_count": 51,
   "metadata": {},
   "outputs": [
    {
     "data": {
      "text/plain": [
       "20000000.0    221\n",
       "10000000.0    197\n",
       "30000000.0    171\n",
       "40000000.0    163\n",
       "15000000.0    162\n",
       "25000000.0    161\n",
       "5000000.0     134\n",
       "35000000.0    131\n",
       "50000000.0    124\n",
       "60000000.0    109\n",
       "12000000.0    108\n",
       "3000000.0      92\n",
       "1000000.0      89\n",
       "2000000.0      88\n",
       "18000000.0     85\n",
       "4000000.0      78\n",
       "6000000.0      77\n",
       "7000000.0      76\n",
       "8000000.0      75\n",
       "45000000.0     74\n",
       "Name: production_budget, dtype: int64"
      ]
     },
     "execution_count": 51,
     "metadata": {},
     "output_type": "execute_result"
    }
   ],
   "source": [
    "mode_pb = gross_budget['production_budget'].value_counts()\n",
    "mode_pb.head(20)"
   ]
  },
  {
   "cell_type": "code",
   "execution_count": 57,
   "metadata": {},
   "outputs": [
    {
     "data": {
      "text/plain": [
       "42960481.08389108"
      ]
     },
     "execution_count": 57,
     "metadata": {},
     "output_type": "execute_result"
    }
   ],
   "source": [
    "std_pb = gross_budget['production_budget'].std()\n",
    "std_pb"
   ]
  },
  {
   "cell_type": "code",
   "execution_count": 62,
   "metadata": {},
   "outputs": [
    {
     "data": {
      "text/plain": [
       "1100.0"
      ]
     },
     "execution_count": 62,
     "metadata": {},
     "output_type": "execute_result"
    }
   ],
   "source": [
    "lowest_pb = gross_budget['production_budget'].min()\n",
    "lowest_pb"
   ]
  },
  {
   "cell_type": "code",
   "execution_count": 54,
   "metadata": {},
   "outputs": [
    {
     "data": {
      "text/html": [
       "<div>\n",
       "<style scoped>\n",
       "    .dataframe tbody tr th:only-of-type {\n",
       "        vertical-align: middle;\n",
       "    }\n",
       "\n",
       "    .dataframe tbody tr th {\n",
       "        vertical-align: top;\n",
       "    }\n",
       "\n",
       "    .dataframe thead th {\n",
       "        text-align: right;\n",
       "    }\n",
       "</style>\n",
       "<table border=\"1\" class=\"dataframe\">\n",
       "  <thead>\n",
       "    <tr style=\"text-align: right;\">\n",
       "      <th></th>\n",
       "      <th>Unnamed: 0</th>\n",
       "      <th>foreign_gross</th>\n",
       "      <th>production_budget</th>\n",
       "      <th>net_profit</th>\n",
       "      <th>movie_title</th>\n",
       "      <th>domestic_gross</th>\n",
       "      <th>world_wide_gross_Profit</th>\n",
       "      <th>ROI</th>\n",
       "    </tr>\n",
       "  </thead>\n",
       "  <tbody>\n",
       "    <tr>\n",
       "      <th>10</th>\n",
       "      <td>15</td>\n",
       "      <td>182500000.0</td>\n",
       "      <td>8000000.0</td>\n",
       "      <td>82815558.0</td>\n",
       "      <td>The Karate Kid</td>\n",
       "      <td>90815558.0</td>\n",
       "      <td>90815558.0</td>\n",
       "      <td>1035.194475</td>\n",
       "    </tr>\n",
       "    <tr>\n",
       "      <th>11</th>\n",
       "      <td>17</td>\n",
       "      <td>222400000.0</td>\n",
       "      <td>13000000.0</td>\n",
       "      <td>318266710.0</td>\n",
       "      <td>Black Swan</td>\n",
       "      <td>106954678.0</td>\n",
       "      <td>331266710.0</td>\n",
       "      <td>2448.205462</td>\n",
       "    </tr>\n",
       "    <tr>\n",
       "      <th>33</th>\n",
       "      <td>41</td>\n",
       "      <td>92800000.0</td>\n",
       "      <td>3000000.0</td>\n",
       "      <td>174512032.0</td>\n",
       "      <td>Paranormal Activity 2</td>\n",
       "      <td>84752907.0</td>\n",
       "      <td>177512032.0</td>\n",
       "      <td>5817.067733</td>\n",
       "    </tr>\n",
       "    <tr>\n",
       "      <th>43</th>\n",
       "      <td>53</td>\n",
       "      <td>90400000.0</td>\n",
       "      <td>17000000.0</td>\n",
       "      <td>116735284.0</td>\n",
       "      <td>Saw 3D</td>\n",
       "      <td>45710178.0</td>\n",
       "      <td>133735284.0</td>\n",
       "      <td>686.678141</td>\n",
       "    </tr>\n",
       "    <tr>\n",
       "      <th>44</th>\n",
       "      <td>55</td>\n",
       "      <td>35600000.0</td>\n",
       "      <td>11000000.0</td>\n",
       "      <td>118262388.0</td>\n",
       "      <td>The Fighter</td>\n",
       "      <td>93617009.0</td>\n",
       "      <td>129262388.0</td>\n",
       "      <td>1075.112618</td>\n",
       "    </tr>\n",
       "    <tr>\n",
       "      <th>...</th>\n",
       "      <td>...</td>\n",
       "      <td>...</td>\n",
       "      <td>...</td>\n",
       "      <td>...</td>\n",
       "      <td>...</td>\n",
       "      <td>...</td>\n",
       "      <td>...</td>\n",
       "      <td>...</td>\n",
       "    </tr>\n",
       "    <tr>\n",
       "      <th>5229</th>\n",
       "      <td>7924</td>\n",
       "      <td>1573.0</td>\n",
       "      <td>7000.0</td>\n",
       "      <td>64644.0</td>\n",
       "      <td>Cavite</td>\n",
       "      <td>70071.0</td>\n",
       "      <td>71644.0</td>\n",
       "      <td>923.485714</td>\n",
       "    </tr>\n",
       "    <tr>\n",
       "      <th>5230</th>\n",
       "      <td>7925</td>\n",
       "      <td>0.0</td>\n",
       "      <td>7000.0</td>\n",
       "      <td>-6100.0</td>\n",
       "      <td>The Mongol King</td>\n",
       "      <td>900.0</td>\n",
       "      <td>900.0</td>\n",
       "      <td>-87.142857</td>\n",
       "    </tr>\n",
       "    <tr>\n",
       "      <th>5231</th>\n",
       "      <td>7927</td>\n",
       "      <td>192013.0</td>\n",
       "      <td>6000.0</td>\n",
       "      <td>234495.0</td>\n",
       "      <td>Following</td>\n",
       "      <td>48482.0</td>\n",
       "      <td>240495.0</td>\n",
       "      <td>3908.250000</td>\n",
       "    </tr>\n",
       "    <tr>\n",
       "      <th>5232</th>\n",
       "      <td>7928</td>\n",
       "      <td>0.0</td>\n",
       "      <td>5000.0</td>\n",
       "      <td>-3662.0</td>\n",
       "      <td>Return to the Land of Wonders</td>\n",
       "      <td>1338.0</td>\n",
       "      <td>1338.0</td>\n",
       "      <td>-73.240000</td>\n",
       "    </tr>\n",
       "    <tr>\n",
       "      <th>5233</th>\n",
       "      <td>7930</td>\n",
       "      <td>0.0</td>\n",
       "      <td>1100.0</td>\n",
       "      <td>179941.0</td>\n",
       "      <td>My Date With Drew</td>\n",
       "      <td>181041.0</td>\n",
       "      <td>181041.0</td>\n",
       "      <td>16358.272727</td>\n",
       "    </tr>\n",
       "  </tbody>\n",
       "</table>\n",
       "<p>2587 rows × 8 columns</p>\n",
       "</div>"
      ],
      "text/plain": [
       "      Unnamed: 0  foreign_gross  production_budget   net_profit  \\\n",
       "10            15    182500000.0          8000000.0   82815558.0   \n",
       "11            17    222400000.0         13000000.0  318266710.0   \n",
       "33            41     92800000.0          3000000.0  174512032.0   \n",
       "43            53     90400000.0         17000000.0  116735284.0   \n",
       "44            55     35600000.0         11000000.0  118262388.0   \n",
       "...          ...            ...                ...          ...   \n",
       "5229        7924         1573.0             7000.0      64644.0   \n",
       "5230        7925            0.0             7000.0      -6100.0   \n",
       "5231        7927       192013.0             6000.0     234495.0   \n",
       "5232        7928            0.0             5000.0      -3662.0   \n",
       "5233        7930            0.0             1100.0     179941.0   \n",
       "\n",
       "                        movie_title  domestic_gross  world_wide_gross_Profit  \\\n",
       "10                   The Karate Kid      90815558.0               90815558.0   \n",
       "11                       Black Swan     106954678.0              331266710.0   \n",
       "33            Paranormal Activity 2      84752907.0              177512032.0   \n",
       "43                           Saw 3D      45710178.0              133735284.0   \n",
       "44                      The Fighter      93617009.0              129262388.0   \n",
       "...                             ...             ...                      ...   \n",
       "5229                         Cavite         70071.0                  71644.0   \n",
       "5230                The Mongol King           900.0                    900.0   \n",
       "5231                      Following         48482.0                 240495.0   \n",
       "5232  Return to the Land of Wonders          1338.0                   1338.0   \n",
       "5233              My Date With Drew        181041.0                 181041.0   \n",
       "\n",
       "               ROI  \n",
       "10     1035.194475  \n",
       "11     2448.205462  \n",
       "33     5817.067733  \n",
       "43      686.678141  \n",
       "44     1075.112618  \n",
       "...            ...  \n",
       "5229    923.485714  \n",
       "5230    -87.142857  \n",
       "5231   3908.250000  \n",
       "5232    -73.240000  \n",
       "5233  16358.272727  \n",
       "\n",
       "[2587 rows x 8 columns]"
      ]
     },
     "execution_count": 54,
     "metadata": {},
     "output_type": "execute_result"
    }
   ],
   "source": [
    "low_budget_films = gross_budget[gross_budget['production_budget'] < median_pb]\n",
    "low_budget_films"
   ]
  },
  {
   "cell_type": "code",
   "execution_count": 55,
   "metadata": {},
   "outputs": [
    {
     "data": {
      "text/plain": [
       "2587"
      ]
     },
     "execution_count": 55,
     "metadata": {},
     "output_type": "execute_result"
    }
   ],
   "source": [
    "len(low_budget_films)"
   ]
  },
  {
   "cell_type": "code",
   "execution_count": 61,
   "metadata": {},
   "outputs": [
    {
     "data": {
      "text/plain": [
       "49.42682460833015"
      ]
     },
     "execution_count": 61,
     "metadata": {},
     "output_type": "execute_result"
    }
   ],
   "source": [
    "(2587/5234)*100"
   ]
  },
  {
   "cell_type": "code",
   "execution_count": 70,
   "metadata": {},
   "outputs": [
    {
     "data": {
      "text/plain": [
       "689.8879844181744"
      ]
     },
     "execution_count": 70,
     "metadata": {},
     "output_type": "execute_result"
    }
   ],
   "source": [
    "low_budget_films_avg = low_budget_films['ROI'].mean()\n",
    "low_budget_films_avg"
   ]
  },
  {
   "cell_type": "code",
   "execution_count": 78,
   "metadata": {},
   "outputs": [
    {
     "data": {
      "text/plain": [
       "19700000.0"
      ]
     },
     "execution_count": 78,
     "metadata": {},
     "output_type": "execute_result"
    }
   ],
   "source": [
    "low_budget_films_max = low_budget_films['production_budget'].max()\n",
    "low_budget_films_max"
   ]
  },
  {
   "cell_type": "code",
   "execution_count": 72,
   "metadata": {
    "scrolled": true
   },
   "outputs": [
    {
     "data": {
      "text/html": [
       "<div>\n",
       "<style scoped>\n",
       "    .dataframe tbody tr th:only-of-type {\n",
       "        vertical-align: middle;\n",
       "    }\n",
       "\n",
       "    .dataframe tbody tr th {\n",
       "        vertical-align: top;\n",
       "    }\n",
       "\n",
       "    .dataframe thead th {\n",
       "        text-align: right;\n",
       "    }\n",
       "</style>\n",
       "<table border=\"1\" class=\"dataframe\">\n",
       "  <thead>\n",
       "    <tr style=\"text-align: right;\">\n",
       "      <th></th>\n",
       "      <th>Unnamed: 0</th>\n",
       "      <th>foreign_gross</th>\n",
       "      <th>production_budget</th>\n",
       "      <th>net_profit</th>\n",
       "      <th>movie_title</th>\n",
       "      <th>domestic_gross</th>\n",
       "      <th>world_wide_gross_Profit</th>\n",
       "      <th>ROI</th>\n",
       "    </tr>\n",
       "  </thead>\n",
       "  <tbody>\n",
       "    <tr>\n",
       "      <th>10</th>\n",
       "      <td>15</td>\n",
       "      <td>182500000.0</td>\n",
       "      <td>8000000.0</td>\n",
       "      <td>82815558.0</td>\n",
       "      <td>The Karate Kid</td>\n",
       "      <td>90815558.0</td>\n",
       "      <td>90815558.0</td>\n",
       "      <td>1035.194475</td>\n",
       "    </tr>\n",
       "    <tr>\n",
       "      <th>11</th>\n",
       "      <td>17</td>\n",
       "      <td>222400000.0</td>\n",
       "      <td>13000000.0</td>\n",
       "      <td>318266710.0</td>\n",
       "      <td>Black Swan</td>\n",
       "      <td>106954678.0</td>\n",
       "      <td>331266710.0</td>\n",
       "      <td>2448.205462</td>\n",
       "    </tr>\n",
       "    <tr>\n",
       "      <th>33</th>\n",
       "      <td>41</td>\n",
       "      <td>92800000.0</td>\n",
       "      <td>3000000.0</td>\n",
       "      <td>174512032.0</td>\n",
       "      <td>Paranormal Activity 2</td>\n",
       "      <td>84752907.0</td>\n",
       "      <td>177512032.0</td>\n",
       "      <td>5817.067733</td>\n",
       "    </tr>\n",
       "    <tr>\n",
       "      <th>43</th>\n",
       "      <td>53</td>\n",
       "      <td>90400000.0</td>\n",
       "      <td>17000000.0</td>\n",
       "      <td>116735284.0</td>\n",
       "      <td>Saw 3D</td>\n",
       "      <td>45710178.0</td>\n",
       "      <td>133735284.0</td>\n",
       "      <td>686.678141</td>\n",
       "    </tr>\n",
       "    <tr>\n",
       "      <th>44</th>\n",
       "      <td>55</td>\n",
       "      <td>35600000.0</td>\n",
       "      <td>11000000.0</td>\n",
       "      <td>118262388.0</td>\n",
       "      <td>The Fighter</td>\n",
       "      <td>93617009.0</td>\n",
       "      <td>129262388.0</td>\n",
       "      <td>1075.112618</td>\n",
       "    </tr>\n",
       "    <tr>\n",
       "      <th>...</th>\n",
       "      <td>...</td>\n",
       "      <td>...</td>\n",
       "      <td>...</td>\n",
       "      <td>...</td>\n",
       "      <td>...</td>\n",
       "      <td>...</td>\n",
       "      <td>...</td>\n",
       "      <td>...</td>\n",
       "    </tr>\n",
       "    <tr>\n",
       "      <th>5229</th>\n",
       "      <td>7924</td>\n",
       "      <td>1573.0</td>\n",
       "      <td>7000.0</td>\n",
       "      <td>64644.0</td>\n",
       "      <td>Cavite</td>\n",
       "      <td>70071.0</td>\n",
       "      <td>71644.0</td>\n",
       "      <td>923.485714</td>\n",
       "    </tr>\n",
       "    <tr>\n",
       "      <th>5230</th>\n",
       "      <td>7925</td>\n",
       "      <td>0.0</td>\n",
       "      <td>7000.0</td>\n",
       "      <td>-6100.0</td>\n",
       "      <td>The Mongol King</td>\n",
       "      <td>900.0</td>\n",
       "      <td>900.0</td>\n",
       "      <td>-87.142857</td>\n",
       "    </tr>\n",
       "    <tr>\n",
       "      <th>5231</th>\n",
       "      <td>7927</td>\n",
       "      <td>192013.0</td>\n",
       "      <td>6000.0</td>\n",
       "      <td>234495.0</td>\n",
       "      <td>Following</td>\n",
       "      <td>48482.0</td>\n",
       "      <td>240495.0</td>\n",
       "      <td>3908.250000</td>\n",
       "    </tr>\n",
       "    <tr>\n",
       "      <th>5232</th>\n",
       "      <td>7928</td>\n",
       "      <td>0.0</td>\n",
       "      <td>5000.0</td>\n",
       "      <td>-3662.0</td>\n",
       "      <td>Return to the Land of Wonders</td>\n",
       "      <td>1338.0</td>\n",
       "      <td>1338.0</td>\n",
       "      <td>-73.240000</td>\n",
       "    </tr>\n",
       "    <tr>\n",
       "      <th>5233</th>\n",
       "      <td>7930</td>\n",
       "      <td>0.0</td>\n",
       "      <td>1100.0</td>\n",
       "      <td>179941.0</td>\n",
       "      <td>My Date With Drew</td>\n",
       "      <td>181041.0</td>\n",
       "      <td>181041.0</td>\n",
       "      <td>16358.272727</td>\n",
       "    </tr>\n",
       "  </tbody>\n",
       "</table>\n",
       "<p>3507 rows × 8 columns</p>\n",
       "</div>"
      ],
      "text/plain": [
       "      Unnamed: 0  foreign_gross  production_budget   net_profit  \\\n",
       "10            15    182500000.0          8000000.0   82815558.0   \n",
       "11            17    222400000.0         13000000.0  318266710.0   \n",
       "33            41     92800000.0          3000000.0  174512032.0   \n",
       "43            53     90400000.0         17000000.0  116735284.0   \n",
       "44            55     35600000.0         11000000.0  118262388.0   \n",
       "...          ...            ...                ...          ...   \n",
       "5229        7924         1573.0             7000.0      64644.0   \n",
       "5230        7925            0.0             7000.0      -6100.0   \n",
       "5231        7927       192013.0             6000.0     234495.0   \n",
       "5232        7928            0.0             5000.0      -3662.0   \n",
       "5233        7930            0.0             1100.0     179941.0   \n",
       "\n",
       "                        movie_title  domestic_gross  world_wide_gross_Profit  \\\n",
       "10                   The Karate Kid      90815558.0               90815558.0   \n",
       "11                       Black Swan     106954678.0              331266710.0   \n",
       "33            Paranormal Activity 2      84752907.0              177512032.0   \n",
       "43                           Saw 3D      45710178.0              133735284.0   \n",
       "44                      The Fighter      93617009.0              129262388.0   \n",
       "...                             ...             ...                      ...   \n",
       "5229                         Cavite         70071.0                  71644.0   \n",
       "5230                The Mongol King           900.0                    900.0   \n",
       "5231                      Following         48482.0                 240495.0   \n",
       "5232  Return to the Land of Wonders          1338.0                   1338.0   \n",
       "5233              My Date With Drew        181041.0                 181041.0   \n",
       "\n",
       "               ROI  \n",
       "10     1035.194475  \n",
       "11     2448.205462  \n",
       "33     5817.067733  \n",
       "43      686.678141  \n",
       "44     1075.112618  \n",
       "...            ...  \n",
       "5229    923.485714  \n",
       "5230    -87.142857  \n",
       "5231   3908.250000  \n",
       "5232    -73.240000  \n",
       "5233  16358.272727  \n",
       "\n",
       "[3507 rows x 8 columns]"
      ]
     },
     "execution_count": 72,
     "metadata": {},
     "output_type": "execute_result"
    }
   ],
   "source": [
    "low_budget_films2 = gross_budget[gross_budget['production_budget'] < mean_pb]\n",
    "low_budget_films2"
   ]
  },
  {
   "cell_type": "code",
   "execution_count": 60,
   "metadata": {},
   "outputs": [
    {
     "data": {
      "text/plain": [
       "67.00420328620558"
      ]
     },
     "execution_count": 60,
     "metadata": {},
     "output_type": "execute_result"
    }
   ],
   "source": [
    "(3507/5234)*100"
   ]
  },
  {
   "cell_type": "code",
   "execution_count": 73,
   "metadata": {},
   "outputs": [
    {
     "data": {
      "text/plain": [
       "555.2045466200623"
      ]
     },
     "execution_count": 73,
     "metadata": {},
     "output_type": "execute_result"
    }
   ],
   "source": [
    "low_budget_films2_avg = low_budget_films2['ROI'].mean()\n",
    "low_budget_films2_avg"
   ]
  },
  {
   "cell_type": "code",
   "execution_count": 80,
   "metadata": {},
   "outputs": [
    {
     "data": {
      "text/plain": [
       "34000000.0"
      ]
     },
     "execution_count": 80,
     "metadata": {},
     "output_type": "execute_result"
    }
   ],
   "source": [
    "low_budget_films2_max = low_budget_films2['production_budget'].max()\n",
    "low_budget_films2_max"
   ]
  },
  {
   "cell_type": "code",
   "execution_count": 86,
   "metadata": {},
   "outputs": [
    {
     "data": {
      "text/html": [
       "<div>\n",
       "<style scoped>\n",
       "    .dataframe tbody tr th:only-of-type {\n",
       "        vertical-align: middle;\n",
       "    }\n",
       "\n",
       "    .dataframe tbody tr th {\n",
       "        vertical-align: top;\n",
       "    }\n",
       "\n",
       "    .dataframe thead th {\n",
       "        text-align: right;\n",
       "    }\n",
       "</style>\n",
       "<table border=\"1\" class=\"dataframe\">\n",
       "  <thead>\n",
       "    <tr style=\"text-align: right;\">\n",
       "      <th></th>\n",
       "      <th>Unnamed: 0</th>\n",
       "      <th>foreign_gross</th>\n",
       "      <th>production_budget</th>\n",
       "      <th>net_profit</th>\n",
       "      <th>movie_title</th>\n",
       "      <th>domestic_gross</th>\n",
       "      <th>world_wide_gross_Profit</th>\n",
       "      <th>ROI</th>\n",
       "    </tr>\n",
       "  </thead>\n",
       "  <tbody>\n",
       "    <tr>\n",
       "      <th>33</th>\n",
       "      <td>41</td>\n",
       "      <td>92800000.0</td>\n",
       "      <td>3000000.0</td>\n",
       "      <td>174512032.0</td>\n",
       "      <td>Paranormal Activity 2</td>\n",
       "      <td>84752907.0</td>\n",
       "      <td>177512032.0</td>\n",
       "      <td>5817.067733</td>\n",
       "    </tr>\n",
       "    <tr>\n",
       "      <th>70</th>\n",
       "      <td>89</td>\n",
       "      <td>26700000.0</td>\n",
       "      <td>1800000.0</td>\n",
       "      <td>68365900.0</td>\n",
       "      <td>The Last Exorcism</td>\n",
       "      <td>41034350.0</td>\n",
       "      <td>70165900.0</td>\n",
       "      <td>3798.105556</td>\n",
       "    </tr>\n",
       "    <tr>\n",
       "      <th>95</th>\n",
       "      <td>127</td>\n",
       "      <td>13900000.0</td>\n",
       "      <td>4000000.0</td>\n",
       "      <td>32275469.0</td>\n",
       "      <td>The Kids Are All Right</td>\n",
       "      <td>20811365.0</td>\n",
       "      <td>36275469.0</td>\n",
       "      <td>806.886725</td>\n",
       "    </tr>\n",
       "    <tr>\n",
       "      <th>112</th>\n",
       "      <td>149</td>\n",
       "      <td>18100000.0</td>\n",
       "      <td>1987650.0</td>\n",
       "      <td>19282640.0</td>\n",
       "      <td>Buried</td>\n",
       "      <td>1044143.0</td>\n",
       "      <td>21270290.0</td>\n",
       "      <td>970.122506</td>\n",
       "    </tr>\n",
       "    <tr>\n",
       "      <th>113</th>\n",
       "      <td>150</td>\n",
       "      <td>18500000.0</td>\n",
       "      <td>5600000.0</td>\n",
       "      <td>12927766.0</td>\n",
       "      <td>[Rec] 2</td>\n",
       "      <td>27766.0</td>\n",
       "      <td>18527766.0</td>\n",
       "      <td>230.852964</td>\n",
       "    </tr>\n",
       "    <tr>\n",
       "      <th>...</th>\n",
       "      <td>...</td>\n",
       "      <td>...</td>\n",
       "      <td>...</td>\n",
       "      <td>...</td>\n",
       "      <td>...</td>\n",
       "      <td>...</td>\n",
       "      <td>...</td>\n",
       "      <td>...</td>\n",
       "    </tr>\n",
       "    <tr>\n",
       "      <th>5229</th>\n",
       "      <td>7924</td>\n",
       "      <td>1573.0</td>\n",
       "      <td>7000.0</td>\n",
       "      <td>64644.0</td>\n",
       "      <td>Cavite</td>\n",
       "      <td>70071.0</td>\n",
       "      <td>71644.0</td>\n",
       "      <td>923.485714</td>\n",
       "    </tr>\n",
       "    <tr>\n",
       "      <th>5230</th>\n",
       "      <td>7925</td>\n",
       "      <td>0.0</td>\n",
       "      <td>7000.0</td>\n",
       "      <td>-6100.0</td>\n",
       "      <td>The Mongol King</td>\n",
       "      <td>900.0</td>\n",
       "      <td>900.0</td>\n",
       "      <td>-87.142857</td>\n",
       "    </tr>\n",
       "    <tr>\n",
       "      <th>5231</th>\n",
       "      <td>7927</td>\n",
       "      <td>192013.0</td>\n",
       "      <td>6000.0</td>\n",
       "      <td>234495.0</td>\n",
       "      <td>Following</td>\n",
       "      <td>48482.0</td>\n",
       "      <td>240495.0</td>\n",
       "      <td>3908.250000</td>\n",
       "    </tr>\n",
       "    <tr>\n",
       "      <th>5232</th>\n",
       "      <td>7928</td>\n",
       "      <td>0.0</td>\n",
       "      <td>5000.0</td>\n",
       "      <td>-3662.0</td>\n",
       "      <td>Return to the Land of Wonders</td>\n",
       "      <td>1338.0</td>\n",
       "      <td>1338.0</td>\n",
       "      <td>-73.240000</td>\n",
       "    </tr>\n",
       "    <tr>\n",
       "      <th>5233</th>\n",
       "      <td>7930</td>\n",
       "      <td>0.0</td>\n",
       "      <td>1100.0</td>\n",
       "      <td>179941.0</td>\n",
       "      <td>My Date With Drew</td>\n",
       "      <td>181041.0</td>\n",
       "      <td>181041.0</td>\n",
       "      <td>16358.272727</td>\n",
       "    </tr>\n",
       "  </tbody>\n",
       "</table>\n",
       "<p>1324 rows × 8 columns</p>\n",
       "</div>"
      ],
      "text/plain": [
       "      Unnamed: 0  foreign_gross  production_budget   net_profit  \\\n",
       "33            41     92800000.0          3000000.0  174512032.0   \n",
       "70            89     26700000.0          1800000.0   68365900.0   \n",
       "95           127     13900000.0          4000000.0   32275469.0   \n",
       "112          149     18100000.0          1987650.0   19282640.0   \n",
       "113          150     18500000.0          5600000.0   12927766.0   \n",
       "...          ...            ...                ...          ...   \n",
       "5229        7924         1573.0             7000.0      64644.0   \n",
       "5230        7925            0.0             7000.0      -6100.0   \n",
       "5231        7927       192013.0             6000.0     234495.0   \n",
       "5232        7928            0.0             5000.0      -3662.0   \n",
       "5233        7930            0.0             1100.0     179941.0   \n",
       "\n",
       "                        movie_title  domestic_gross  world_wide_gross_Profit  \\\n",
       "33            Paranormal Activity 2      84752907.0              177512032.0   \n",
       "70                The Last Exorcism      41034350.0               70165900.0   \n",
       "95           The Kids Are All Right      20811365.0               36275469.0   \n",
       "112                          Buried       1044143.0               21270290.0   \n",
       "113                         [Rec] 2         27766.0               18527766.0   \n",
       "...                             ...             ...                      ...   \n",
       "5229                         Cavite         70071.0                  71644.0   \n",
       "5230                The Mongol King           900.0                    900.0   \n",
       "5231                      Following         48482.0                 240495.0   \n",
       "5232  Return to the Land of Wonders          1338.0                   1338.0   \n",
       "5233              My Date With Drew        181041.0                 181041.0   \n",
       "\n",
       "               ROI  \n",
       "33     5817.067733  \n",
       "70     3798.105556  \n",
       "95      806.886725  \n",
       "112     970.122506  \n",
       "113     230.852964  \n",
       "...            ...  \n",
       "5229    923.485714  \n",
       "5230    -87.142857  \n",
       "5231   3908.250000  \n",
       "5232    -73.240000  \n",
       "5233  16358.272727  \n",
       "\n",
       "[1324 rows x 8 columns]"
      ]
     },
     "execution_count": 86,
     "metadata": {},
     "output_type": "execute_result"
    }
   ],
   "source": [
    "#percentile_25 = np.percentile(gross_budget['production_budget'], 25)\n",
    "let\n",
    "low_budget_films3 = gross_budget[gross_budget['production_budget'] <= percentile_25]\n",
    "low_budget_films3\n"
   ]
  },
  {
   "cell_type": "code",
   "execution_count": 67,
   "metadata": {},
   "outputs": [
    {
     "data": {
      "text/plain": [
       "25.296140619029423"
      ]
     },
     "execution_count": 67,
     "metadata": {},
     "output_type": "execute_result"
    }
   ],
   "source": [
    "(1324/5234)*100"
   ]
  },
  {
   "cell_type": "code",
   "execution_count": 66,
   "metadata": {},
   "outputs": [
    {
     "data": {
      "text/plain": [
       "1099.2432941425466"
      ]
     },
     "execution_count": 66,
     "metadata": {},
     "output_type": "execute_result"
    }
   ],
   "source": [
    "low_budget_films3_avg = low_budget_films3['ROI'].mean()\n",
    "low_budget_films3_avg"
   ]
  },
  {
   "cell_type": "code",
   "execution_count": 82,
   "metadata": {},
   "outputs": [
    {
     "data": {
      "text/plain": [
       "6500000.0"
      ]
     },
     "execution_count": 82,
     "metadata": {},
     "output_type": "execute_result"
    }
   ],
   "source": [
    "low_budget_films3_max = low_budget_films3['production_budget'].max()\n",
    "low_budget_films3_max"
   ]
  },
  {
   "cell_type": "code",
   "execution_count": 91,
   "metadata": {},
   "outputs": [
    {
     "data": {
      "text/plain": [
       "6076.476790361145"
      ]
     },
     "execution_count": 91,
     "metadata": {},
     "output_type": "execute_result"
    }
   ],
   "source": [
    "low_budget_films3_std = low_budget_films3['ROI'].std()\n",
    "low_budget_films3_std"
   ]
  },
  {
   "cell_type": "markdown",
   "metadata": {},
   "source": [
    "# Two Sample T-Test"
   ]
  },
  {
   "cell_type": "code",
   "execution_count": 93,
   "metadata": {},
   "outputs": [],
   "source": [
    "# All variable for two sample t-test are listed below\n",
    "\n",
    "# ROI average of for all movies in the data set\n",
    "ROI_mean_tot\n",
    "\n",
    "# Standard Deviation for all movies in the data set\n",
    "ROI_std\n",
    "\n",
    "data_points1=5234\n",
    "\n",
    "# ROI average for all low budget movies\n",
    "low_budget_films3_avg\n",
    "\n",
    "#Standard Deviation average for all low budget movies\n",
    "low_budget_films3_std\n",
    " \n",
    "data_points2=1324\n",
    "\n",
    "alpha=0.5\n",
    "\n"
   ]
  },
  {
   "cell_type": "code",
   "execution_count": null,
   "metadata": {},
   "outputs": [],
   "source": [
    "scaler.fit(df[['HourlyRate']])"
   ]
  },
  {
   "cell_type": "code",
   "execution_count": 107,
   "metadata": {},
   "outputs": [
    {
     "data": {
      "image/png": "[encoded data removed]",
      "text/plain": [
       "<Figure size 432x288 with 1 Axes>"
      ]
     },
     "metadata": {
      "needs_background": "light"
     },
     "output_type": "display_data"
    }
   ],
   "source": [
    "# Extract the data from the specified column\n",
    "data = low_budget_films3['ROI']\n",
    "\n",
    "# Plot the distribution using a histogram\n",
    "plt.hist(data, bins='auto' , edgecolor='black')  # You can adjust the number of bins\n",
    "plt.title('Distribution of Data')\n",
    "plt.xlabel('Values')\n",
    "plt.ylabel('Frequency')\n",
    "plt.show()\n"
   ]
  },
  {
   "cell_type": "code",
   "execution_count": 110,
   "metadata": {},
   "outputs": [
    {
     "data": {
      "image/png": "[encoded data removed]",
      "text/plain": [
       "<Figure size 432x288 with 1 Axes>"
      ]
     },
     "metadata": {
      "needs_background": "light"
     },
     "output_type": "display_data"
    }
   ],
   "source": [
    "data2 = gross_budget['domestic_gross'] \n",
    "\n",
    "plt.hist(data, bins='auto' , edgecolor='black')  # You can adjust the number of bins\n",
    "plt.title('Distribution of Data')\n",
    "plt.xlabel('Values')\n",
    "plt.ylabel('Frequency')\n",
    "plt.show()\n"
   ]
  },
  {
   "cell_type": "code",
   "execution_count": null,
   "metadata": {},
   "outputs": [],
   "source": []
  }
 ],
 "metadata": {
  "kernelspec": {
   "display_name": "Python (learn-env)",
   "language": "python",
   "name": "learn-env"
  },
  "language_info": {
   "codemirror_mode": {
    "name": "ipython",
    "version": 3
   },
   "file_extension": ".py",
   "mimetype": "text/x-python",
   "name": "python",
   "nbconvert_exporter": "python",
   "pygments_lexer": "ipython3",
   "version": "3.8.5"
  }
 },
 "nbformat": 4,
 "nbformat_minor": 4
}
